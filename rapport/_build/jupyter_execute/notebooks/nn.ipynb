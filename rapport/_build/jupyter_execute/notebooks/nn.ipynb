{
 "cells": [
  {
   "cell_type": "markdown",
   "id": "fluid-component",
   "metadata": {},
   "source": [
    "-------------------------------------------------------------------\n",
    "**TD DSA 2021 de Antoine Ly   -   rapport de Fabien Faivre**\n",
    "-------------------------     -------------------------------------"
   ]
  },
  {
   "cell_type": "markdown",
   "id": "collectible-reynolds",
   "metadata": {},
   "source": [
    "# Un dernier Essai : BERT"
   ]
  },
  {
   "cell_type": "markdown",
   "id": "divine-order",
   "metadata": {},
   "source": [
    "Après avoir utilisé directement les modèles préentrainé, je souhaitais essayer d'ajuster véritablement un modèle de Deep Learning.\n",
    "\n",
    "J'ai alors trouvé un article sur `medium` présentant une telle adaptation :"
   ]
  },
  {
   "cell_type": "markdown",
   "id": "threaded-techno",
   "metadata": {},
   "source": [
    "source : https://scottmduda.medium.com/fine-tuning-language-models-for-sentiment-analysis-91db72396549\n",
    "\n",
    "github : https://github.com/dontmindifiduda/financial_statement_sentiment_analysis/"
   ]
  },
  {
   "cell_type": "markdown",
   "id": "presidential-reset",
   "metadata": {},
   "source": [
    "La logique consiste à aller chercher un modèle préentrainé sur HuggingFace. Ici trous variantes sont testées :\n",
    "\n",
    "- `BERT` : le modèle de référence de l'encodage bidirectionnel initialement publié par Google\n",
    "- `DistilBERT` : la version allégée de `BERT` pour des performances a priori comparables\n",
    "- `RoBERTa` : la variante de Facebook de `BERT` renonçant à l'objectif de prédiction de la phrase suivante et ayant été entraîné avec plus de données et des séquences d'apprentissage plus longues\n"
   ]
  },
  {
   "cell_type": "code",
   "execution_count": 1,
   "id": "religious-mayor",
   "metadata": {},
   "outputs": [],
   "source": [
    "import numpy as np \n",
    "import pandas as pd \n",
    "\n",
    "import os\n",
    "import re\n",
    "import time\n",
    "import datetime\n",
    "import string\n",
    "\n",
    "import matplotlib.pyplot as plt\n",
    "import seaborn as sns\n",
    "plt.style.use('ggplot')\n",
    "\n",
    "import nltk\n",
    "from nltk.corpus import stopwords\n",
    "from nltk.tokenize import word_tokenize\n",
    "\n",
    "from collections import Counter, defaultdict\n",
    "\n",
    "import transformers\n",
    "from transformers import BertModel, BertTokenizer, DistilBertTokenizer, RobertaModel, RobertaTokenizer\n",
    "from transformers import AutoConfig, AutoModel, AdamW, get_linear_schedule_with_warmup\n",
    "\n",
    "import torch\n",
    "from torch import nn, optim\n",
    "from torch.utils.data import Dataset, random_split, DataLoader, RandomSampler, SequentialSampler\n",
    "\n",
    "from sklearn.model_selection import train_test_split, StratifiedKFold\n",
    "from sklearn.preprocessing import LabelEncoder\n",
    "from sklearn.metrics import f1_score, accuracy_score, confusion_matrix, classification_report\n",
    "\n",
    "import mlflow\n",
    "\n",
    "import gc\n"
   ]
  },
  {
   "cell_type": "markdown",
   "id": "wrapped-tolerance",
   "metadata": {},
   "source": [
    "## Chargement des données"
   ]
  },
  {
   "cell_type": "code",
   "execution_count": 2,
   "id": "bridal-fluid",
   "metadata": {},
   "outputs": [],
   "source": [
    "# On Importe les données\n",
    "\n",
    "#df\n",
    "df_train=pd.read_parquet('/mnt/data/interim/df_train.gzip')\n",
    "df_val=pd.read_parquet('/mnt/data/interim/df_val.gzip')\n",
    "df_test=pd.read_parquet('/mnt/data/interim/df_test.gzip')\n",
    "\n",
    "#X\n",
    "X_train=pd.read_parquet('/mnt/data/interim/X_train.gzip')\n",
    "X_val=pd.read_parquet('/mnt/data/interim/X_val.gzip')\n",
    "X_test=pd.read_parquet('/mnt/data/interim/X_test.gzip')\n",
    "\n",
    "X_train_prepro=pd.read_parquet('/mnt/data/interim/X_train_prepro.gzip')\n",
    "X_val_prepro=pd.read_parquet('/mnt/data/interim/X_val_prepro.gzip')\n",
    "X_test_prepro=pd.read_parquet('/mnt/data/interim/X_test_prepro.gzip')\n",
    "\n",
    "#y\n",
    "y_train=pd.read_parquet('/mnt/data/interim/y_train.gzip')\n",
    "y_val=pd.read_parquet('/mnt/data/interim/y_val.gzip')\n",
    "y_test=pd.read_parquet('/mnt/data/interim/y_test.gzip')"
   ]
  },
  {
   "cell_type": "code",
   "execution_count": 42,
   "id": "adapted-warehouse",
   "metadata": {},
   "outputs": [],
   "source": [
    "res_fin2 = pd.read_parquet('/mnt/data/processed/res_fin2.gzip')"
   ]
  },
  {
   "cell_type": "markdown",
   "id": "split-discrimination",
   "metadata": {},
   "source": [
    "## Définition du Device à utiliser et fixation de la graîne"
   ]
  },
  {
   "cell_type": "code",
   "execution_count": 3,
   "id": "representative-client",
   "metadata": {},
   "outputs": [
    {
     "data": {
      "text/plain": [
       "<torch._C.Generator at 0x7f4aa41a9330>"
      ]
     },
     "execution_count": 3,
     "metadata": {},
     "output_type": "execute_result"
    }
   ],
   "source": [
    "device = torch.device('cuda' if torch.cuda.is_available() else 'cpu')\n",
    "\n",
    "RANDOM_SEED = 73\n",
    "np.random.seed(RANDOM_SEED)\n",
    "torch.manual_seed(RANDOM_SEED)"
   ]
  },
  {
   "cell_type": "code",
   "execution_count": 4,
   "id": "driving-edgar",
   "metadata": {},
   "outputs": [],
   "source": [
    "df = pd.concat([df_train, df_val, df_test], axis=0)\n"
   ]
  },
  {
   "cell_type": "code",
   "execution_count": 5,
   "id": "attractive-links",
   "metadata": {},
   "outputs": [],
   "source": [
    "\n",
    "df['num_char'] = df['text'].apply(len)\n",
    "df['num_words'] = df['text'].apply(lambda x: len(x.split()))"
   ]
  },
  {
   "cell_type": "code",
   "execution_count": 40,
   "id": "dramatic-coupon",
   "metadata": {},
   "outputs": [
    {
     "data": {
      "image/png": "[encoded data removed]",
      "text/plain": [
       "<Figure size 864x576 with 1 Axes>"
      ]
     },
     "metadata": {
      "filenames": {
       "image/png": "/mnt/rapport/_build/jupyter_execute/notebooks/nn_13_0.png"
      }
     },
     "output_type": "display_data"
    }
   ],
   "source": [
    "fig, ax = plt.subplots(figsize=(12,8))\n",
    "sns.countplot(x='sentiment', data=df)\n",
    "plt.xlabel('')\n",
    "plt.ylabel('Nombre de tweets')\n",
    "plt.title('Nombre de tweets par setiment')\n",
    "plt.show()"
   ]
  },
  {
   "cell_type": "code",
   "execution_count": 39,
   "id": "structural-active",
   "metadata": {},
   "outputs": [
    {
     "name": "stdout",
     "output_type": "stream",
     "text": [
      "Plus long tweet :  33 mots.\n"
     ]
    }
   ],
   "source": [
    "print('Plus long tweet : ', df['num_words'].max(), 'mots.')"
   ]
  },
  {
   "cell_type": "code",
   "execution_count": 38,
   "id": "referenced-suspect",
   "metadata": {},
   "outputs": [
    {
     "name": "stdout",
     "output_type": "stream",
     "text": [
      "Tweet le plus court :  1 mots.\n"
     ]
    }
   ],
   "source": [
    "print('Tweet le plus court : ', df['num_words'].min(), 'mots.')"
   ]
  },
  {
   "cell_type": "markdown",
   "id": "analyzed-radiation",
   "metadata": {},
   "source": [
    "## Exploration pour l'analyse de sentiment"
   ]
  },
  {
   "cell_type": "markdown",
   "id": "metric-relative",
   "metadata": {},
   "source": [
    "### Code générique"
   ]
  },
  {
   "cell_type": "code",
   "execution_count": 9,
   "id": "victorian-person",
   "metadata": {},
   "outputs": [],
   "source": [
    "MAX_LENGTH = 64\n",
    "BATCH_SIZE = 16\n",
    "NUM_CLASSES = 3\n",
    "EPOCHS = 5\n",
    "DROPOUT_PROB = 0.1\n",
    "WEIGHT_DECAY = 0.01\n",
    "NFOLDS = 10\n",
    "LEARNING_RATE = 2e-5"
   ]
  },
  {
   "cell_type": "code",
   "execution_count": 10,
   "id": "civil-victorian",
   "metadata": {},
   "outputs": [],
   "source": [
    "def format_time(elapsed):\n",
    "    return str(datetime.timedelta(seconds=int(round((elapsed)))))"
   ]
  },
  {
   "cell_type": "markdown",
   "id": "dramatic-confusion",
   "metadata": {},
   "source": [
    "La classe suivante permet de charger les données et tokeniser les tweets"
   ]
  },
  {
   "cell_type": "code",
   "execution_count": 11,
   "id": "provincial-crisis",
   "metadata": {},
   "outputs": [],
   "source": [
    "class TweetDataset(Dataset):\n",
    "    \n",
    "    def __init__(self, tweets, labels, tokenizer, max_length):\n",
    "        self.tweets = tweets\n",
    "        self.labels = labels\n",
    "        self.tokenizer = tokenizer\n",
    "        self.max_length = max_length\n",
    "        \n",
    "    def __len__(self):\n",
    "        \n",
    "        return len(self.tweets)\n",
    "    \n",
    "    def __getitem__(self, idx):\n",
    "        \n",
    "        tweet = str(self.tweets[idx])\n",
    "        label = self.labels[idx]\n",
    "        \n",
    "        encoding = self.tokenizer.encode_plus(\n",
    "            tweet,\n",
    "            max_length=self.max_length,\n",
    "            padding='max_length',\n",
    "            add_special_tokens=True, \n",
    "            return_token_type_ids=False,\n",
    "            truncation=True,\n",
    "            return_attention_mask=True,\n",
    "            return_tensors='pt'  \n",
    "        ) \n",
    "        \n",
    "        return {\n",
    "            'tweet_text': tweet,\n",
    "            'input_ids': encoding['input_ids'].flatten(),\n",
    "            'attention_mask': encoding['attention_mask'].flatten(),\n",
    "            'labels': torch.tensor(label, dtype=torch.long)\n",
    "        }"
   ]
  },
  {
   "cell_type": "markdown",
   "id": "soviet-forward",
   "metadata": {},
   "source": [
    "Transforme les jeux de données. Les données sont tronquées au delà de `MAX_LENGTH`"
   ]
  },
  {
   "cell_type": "code",
   "execution_count": 12,
   "id": "annual-detector",
   "metadata": {},
   "outputs": [],
   "source": [
    "def create_dataset(df, tokenizer, max_length):\n",
    "    ds = TweetDataset(tweets=df['text'].to_numpy(),\n",
    "                          labels=df['sentiment'].to_numpy(),\n",
    "                          tokenizer=tokenizer,\n",
    "                          max_length=max_length)\n",
    "    return ds\n",
    "\n",
    "def create_dataloader(ds, batch_size):\n",
    "    return DataLoader(ds, batch_size)"
   ]
  },
  {
   "cell_type": "markdown",
   "id": "neural-midnight",
   "metadata": {},
   "source": [
    "Le code suivant crée deux variantes d'évaluation de modèles :\n",
    "\n",
    "- `single model performance` : analyse directement les résultats d'un unique modèle\n",
    "\n",
    "- `cv_ensemble_performance` : crée les prédictions d'un ensemble modèle. Utilisé en liaison avec l'analyse 10 fold : les modèles sur chaque fold sont considérés comme indépendants et combiné pour déterminer la prédiction finale"
   ]
  },
  {
   "cell_type": "code",
   "execution_count": 13,
   "id": "agreed-congo",
   "metadata": {},
   "outputs": [],
   "source": [
    "def cv_ensemble_performance(preds, labels):\n",
    "    preds = np.array(preds)\n",
    "    summed = np.sum(preds, axis=0)\n",
    "    preds = np.argmax(summed, axis=1)\n",
    "    print(confusion_matrix(y_true=labels, y_pred=preds))\n",
    "    print('')\n",
    "    print(classification_report(y_true=labels, y_pred=preds, digits=3, target_names=le.classes_))\n",
    "    \n",
    "def single_model_performance(preds, labels):\n",
    "    print(confusion_matrix(y_true=labels, y_pred=preds))\n",
    "    print('')\n",
    "    print(classification_report(y_true=labels, y_pred=preds, digits=3, target_names=le.classes_))"
   ]
  },
  {
   "cell_type": "markdown",
   "id": "hybrid-exploration",
   "metadata": {},
   "source": [
    "`train_model` entraine le modèle sur chaque batch du jeu de données (extraits par le DalaLoader)"
   ]
  },
  {
   "cell_type": "code",
   "execution_count": 14,
   "id": "veterinary-mumbai",
   "metadata": {},
   "outputs": [],
   "source": [
    "def train_model(model, device, data_loader, loss_function, \n",
    "                optimizer, scheduler, n_examples):\n",
    "    \n",
    "    model = model.train()\n",
    "    losses = []\n",
    "    correct_preds = 0\n",
    "    complete_preds = []\n",
    "    complete_labels = []\n",
    "    \n",
    "    for batch in data_loader:\n",
    "        input_ids = batch['input_ids'].to(device)\n",
    "        attention_mask = batch['attention_mask'].to(device)\n",
    "        labels = batch['labels'].to(device)\n",
    "        \n",
    "        outputs = model(input_ids=input_ids, attention_mask=attention_mask)\n",
    "            \n",
    "        _, preds = torch.max(outputs, dim=1)\n",
    "        loss = loss_function(outputs, labels)\n",
    "        complete_preds.append(preds.data.cpu().numpy().tolist())\n",
    "        complete_labels.append(labels.data.cpu().numpy().tolist())\n",
    "        correct_preds += torch.sum(preds == labels)\n",
    "        losses.append(loss.item())\n",
    "        \n",
    "        loss.backward()\n",
    "        nn.utils.clip_grad_norm_(model.parameters(), max_norm=1.0)\n",
    "        optimizer.step()\n",
    "        scheduler.step()\n",
    "        optimizer.zero_grad()\n",
    "    \n",
    "    complete_preds_flat = [x for y in complete_preds for x in y]\n",
    "    complete_labels_flat = [x for y in complete_labels for x in y]\n",
    "    acc_score = accuracy_score(y_true=complete_labels_flat, \n",
    "                             y_pred=complete_preds_flat)\n",
    "    return acc_score, np.mean(losses)"
   ]
  },
  {
   "cell_type": "markdown",
   "id": "russian-upgrade",
   "metadata": {},
   "source": [
    "`eval_model` : évalue un modèle sur un jeu de test pour chaque batch du jeu de test"
   ]
  },
  {
   "cell_type": "code",
   "execution_count": 15,
   "id": "governing-communication",
   "metadata": {},
   "outputs": [],
   "source": [
    "def eval_model(model, device, data_loader, loss_function, n_examples):\n",
    "    model = model.eval()\n",
    "    \n",
    "    losses = []\n",
    "    correct_preds = 0\n",
    "    complete_preds = []\n",
    "    complete_labels = []\n",
    "    complete_outputs = []\n",
    "    \n",
    "    with torch.no_grad():\n",
    "        for item in data_loader:\n",
    "            input_ids = item['input_ids'].to(device)\n",
    "            attention_mask = item['attention_mask'].to(device)\n",
    "            labels = item['labels'].to(device)\n",
    "\n",
    "            outputs = model(input_ids=input_ids, \n",
    "                            attention_mask=attention_mask)\n",
    "            \n",
    "            _, preds = torch.max(outputs, dim=1)\n",
    "            loss = loss_function(outputs, labels)\n",
    "            \n",
    "            correct_preds += torch.sum(preds == labels)\n",
    "            complete_preds.append(preds.data.cpu().numpy().tolist())\n",
    "            complete_labels.append(labels.data.cpu().numpy().tolist())\n",
    "            complete_outputs.append(outputs.tolist())\n",
    "            losses.append(loss.item())\n",
    "        \n",
    "        accuracy = correct_preds.double() / n_examples\n",
    "        complete_preds_flat = [x for y in complete_preds for x in y]\n",
    "        complete_labels_flat = [x for y in complete_labels for x in y]\n",
    "        complete_outputs_flat = [x for y in complete_outputs for x in y]\n",
    "\n",
    "        acc_score = accuracy_score(y_true=complete_labels_flat, \n",
    "                             y_pred=complete_preds_flat)\n",
    "        \n",
    "        return_items = (acc_score, \n",
    "                        np.mean(losses),\n",
    "                        complete_labels_flat,\n",
    "                        complete_preds_flat, \n",
    "                        complete_outputs_flat)\n",
    "        \n",
    "        return return_items"
   ]
  },
  {
   "cell_type": "markdown",
   "id": "graphic-rainbow",
   "metadata": {},
   "source": [
    "`plot_cm` permet de tracer la matrice de confusion du modèle"
   ]
  },
  {
   "cell_type": "code",
   "execution_count": 16,
   "id": "golden-smooth",
   "metadata": {},
   "outputs": [],
   "source": [
    "def plot_cm(y_test, y_pred, target_names=[-1, 0, 1], \n",
    "            figsize=(5,3)):\n",
    "    \"\"\"Create a labelled confusion matrix plot.\"\"\"\n",
    "    cm = confusion_matrix(y_test, y_pred)\n",
    "    fig, ax = plt.subplots(figsize=figsize)\n",
    "    sns.heatmap(cm, annot=True, fmt='g', cmap='BuGn', cbar=False, \n",
    "                ax=ax)\n",
    "    ax.set_title('Confusion matrix')\n",
    "    ax.set_xlabel('Predicted')\n",
    "    ax.set_xticklabels(target_names)\n",
    "    ax.set_ylabel('Actual')\n",
    "    ax.set_yticklabels(target_names, \n",
    "                       fontdict={'verticalalignment': 'center'});"
   ]
  },
  {
   "cell_type": "markdown",
   "id": "early-employment",
   "metadata": {},
   "source": [
    "On initialise MLFlow pour pytorch"
   ]
  },
  {
   "cell_type": "code",
   "execution_count": 17,
   "id": "intensive-entity",
   "metadata": {},
   "outputs": [],
   "source": [
    "import mlflow.pytorch\n",
    "from mlflow.tracking import MlflowClient"
   ]
  },
  {
   "cell_type": "markdown",
   "id": "sustainable-vegetation",
   "metadata": {},
   "source": [
    "`train_fold` permet d'entrainer un modèle sur un unique fold. Les résiltats sont stockés dans MLFlow. Les résultats sont évalués à l'issue de chaque EPOCH."
   ]
  },
  {
   "cell_type": "code",
   "execution_count": 18,
   "id": "double-tissue",
   "metadata": {},
   "outputs": [],
   "source": [
    "def train_fold(mlf_XP, xp_name_iter, epochs, model, device, train_dataloader, \n",
    "               val_dataloader, test_dataloader, loss_fn, optimizer, \n",
    "               scheduler, model_save_name, n_train, n_val, single_model=True):\n",
    "    \n",
    "    \n",
    "    mlflow.set_experiment(mlf_XP)\n",
    "\n",
    "    \n",
    "    \n",
    "    start_time = time.time()\n",
    "    history = defaultdict(list)\n",
    "    best_accuracy = 0\n",
    "\n",
    "    for epoch in range(epochs):\n",
    "        run_name = xp_name_iter + '_' + str(epoch+1)\n",
    "        with mlflow.start_run(run_name = run_name):\n",
    "            epoch_start_time = time.time()\n",
    "            print('Epoch ', epoch+1, '/', epochs)\n",
    "            print('-'*50)\n",
    "\n",
    "            training_output = train_model(model, \n",
    "                                          device, \n",
    "                                          train_dataloader, \n",
    "                                          loss_fn, \n",
    "                                          optimizer, \n",
    "                                          scheduler, \n",
    "                                          n_train)\n",
    "\n",
    "            train_acc, train_loss = training_output\n",
    "\n",
    "            val_output = eval_model(model, \n",
    "                                    device, \n",
    "                                    val_dataloader, \n",
    "                                    loss_fn, \n",
    "                                    n_val)\n",
    "\n",
    "            val_acc, val_loss, _, val_preds, val_outputs = val_output\n",
    "\n",
    "            history['train_accuracy'].append(train_acc)\n",
    "            history['train_loss'].append(train_loss)\n",
    "            history['val_accuracy'].append(val_acc)\n",
    "            history['val_loss'].append(val_loss)\n",
    "            history['val_preds'].append(val_preds)\n",
    "            \n",
    "            mlflow.log_metrics({'epoch': epoch, 'train_acc' : train_acc, 'train_loss': train_loss, 'val_acc': val_acc, 'val_loss' : val_loss })\n",
    "            \n",
    "            mlflow.pytorch.log_model(model, run_name, conda_env='/mnt/configs/conda.yml')\n",
    "            \n",
    "            if val_acc > best_accuracy:\n",
    "                torch.save(model.state_dict(), model_save_name)\n",
    "                best_accuracy = val_acc\n",
    "                best_preds = val_preds\n",
    "                best_outputs = val_outputs\n",
    "                best_epoch = epoch\n",
    "                \n",
    "\n",
    "            print('Train Loss: ', \n",
    "                  train_loss, \n",
    "                  ' | ', \n",
    "                  'Train Accuracy: ', \n",
    "                  train_acc)\n",
    "            print('Val Loss: ', \n",
    "                  val_loss, \n",
    "                  ' | ', \n",
    "                  'Val Accuracy: ', \n",
    "                  val_acc)\n",
    "            elapsed_time = format_time(time.time() - epoch_start_time)\n",
    "            print('Epoch Train Time: ', \n",
    "                  elapsed_time)\n",
    "            print('\\n')\n",
    "            \n",
    "            mlflow.set_tag(key=\"elapsed_time\", value=elapsed_time)   \n",
    "\n",
    "    print('Finished Training.')   \n",
    "    print('Fold Train Time: ', format_time(time.time() - start_time))\n",
    "    print('\\n')\n",
    "                  \n",
    "    if single_model:\n",
    "        test_acc, test_loss, test_actuals, test_preds, test_outputs = eval_model(model, \n",
    "                                                    device, \n",
    "                                                    test_dataloader, \n",
    "                                                    loss_function, \n",
    "                                                    len(df_test))\n",
    "\n",
    "        single_model_performance(test_preds, df_test['sentiment'].values)\n",
    "        plot_cm(test_actuals, test_preds)\n",
    "        f1_macro_test = f1_score(test_actuals, test_preds, average='macro')\n",
    "        run_name = xp_name_iter + '_best'\n",
    "        with mlflow.start_run(run_name = run_name):\n",
    "            mlflow.log_metrics({'train_acc' : history['train_accuracy'][epoch], 'train_loss': history['train_accuracy'][epoch], 'val_acc': history['val_accuracy'][epoch], 'val_loss' : history['train_accuracy'][epoch], 'test_acc': test_acc, 'test_loss': test_loss, 'f1_test':f1_macro_test})\n",
    "            mlflow.pytorch.log_model(model, run_name, conda_env='/mnt/configs/conda.yml')\n",
    "\n",
    "                  \n",
    "    return history, best_preds, best_outputs"
   ]
  },
  {
   "cell_type": "markdown",
   "id": "executed-diary",
   "metadata": {},
   "source": [
    "La fonction suivante exploite l'entraîneme,nt sur un fold pour l'étendre sur du k-fold"
   ]
  },
  {
   "cell_type": "code",
   "execution_count": 19,
   "id": "boring-showcase",
   "metadata": {},
   "outputs": [],
   "source": [
    "def get_oof_and_test_preds(mlf_XP, model_type, tokenizer, \n",
    "                           train_df, test_df, single_model=False):\n",
    "    \n",
    "    \n",
    "    mlflow.set_experiment(mlf_XP)\n",
    "    \n",
    "    \n",
    "    oof_preds = []\n",
    "    oof_outputs = []\n",
    "    oof_preds_indices = []\n",
    "    test_preds_list = []\n",
    "    test_outputs_list = []\n",
    "    history_list = []\n",
    "    start_time = time.time()\n",
    "    \n",
    "    fold = 0\n",
    "    \n",
    "    x_train = train_df['text']\n",
    "    y_train = train_df['sentiment']\n",
    "\n",
    "    for train_index, val_index in skf.split(x_train, y_train):\n",
    "        print('Fold: {}'.format(fold+1))\n",
    "        \n",
    "        x_tr = x_train.iloc[train_index]\n",
    "        y_tr = y_train.iloc[train_index]\n",
    "        x_va = x_train.iloc[val_index]\n",
    "        y_va = y_train.iloc[val_index]\n",
    "        \n",
    "        train = pd.DataFrame(list(zip(x_tr, y_tr)), \n",
    "                             columns=['text', 'sentiment'])\n",
    "        val = pd.DataFrame(list(zip(x_va, y_va)), \n",
    "                           columns=['text', 'sentiment'])\n",
    "\n",
    "        train_ds = create_dataset(train, tokenizer, MAX_LENGTH)\n",
    "        val_ds = create_dataset(val, tokenizer, MAX_LENGTH)\n",
    "        test_ds = create_dataset(test_df, tokenizer, MAX_LENGTH)\n",
    "        \n",
    "\n",
    "        if model_type == 'bert':\n",
    "            model = BERTSentimentClassifier(NUM_CLASSES)\n",
    "            model = model.to(device)\n",
    "        elif model_type == 'distilbert':\n",
    "            model = DistilBertForSequenceClassification(pretrained_model_name=DISTILBERT_MODEL_NAME, \n",
    "                                                        num_classes=NUM_CLASSES)\n",
    "            model = model.to(device)\n",
    "        elif model_type == 'roberta':\n",
    "            model = RobertaSentimentClassifier(n_classes=NUM_CLASSES)\n",
    "            model = model.to(device)\n",
    "        \n",
    "        train_loader = create_dataloader(train_ds, BATCH_SIZE)\n",
    "        val_loader = create_dataloader(val_ds, BATCH_SIZE)\n",
    "        test_loader = create_dataloader(test_ds, BATCH_SIZE)\n",
    "        \n",
    "        training_steps = len(train_loader.dataset) * EPOCHS\n",
    "        warmup_steps = int(0.1 * training_steps)\n",
    "        optimizer = AdamW(model.parameters(), \n",
    "                          lr=LEARNING_RATE, \n",
    "                          weight_decay=WEIGHT_DECAY, \n",
    "                          correct_bias=True)\n",
    "        scheduler = get_linear_schedule_with_warmup(optimizer, \n",
    "                                                    num_warmup_steps=warmup_steps, \n",
    "                                                    num_training_steps=training_steps)\n",
    "        \n",
    "        model_save_name = '{}_fold_{}.bin'.format(model_type, fold)\n",
    "        \n",
    "        history, preds, outputs = train_fold(mlf_XP = mlf_XP, \n",
    "                                             xp_name_iter = model_type + '_Fold' + str(fold+1),\n",
    "                                             epochs=EPOCHS,\n",
    "                                             model=model, \n",
    "                                             device=device, \n",
    "                                             train_dataloader=train_loader, \n",
    "                                             val_dataloader=val_loader,\n",
    "                                             test_dataloader=test_loader,\n",
    "                                             loss_fn=loss_function,\n",
    "                                             optimizer=optimizer,\n",
    "                                             scheduler=scheduler,\n",
    "                                             model_save_name=model_save_name,\n",
    "                                             n_train=len(train),\n",
    "                                             n_val=len(val),\n",
    "                                             single_model=False\n",
    "                                            )\n",
    "        \n",
    "        history_list.append(history)\n",
    "        oof_preds.append(preds)\n",
    "        oof_outputs.append(outputs)\n",
    "        oof_preds_indices.append(val_index)\n",
    "        \n",
    "        test_acc, test_loss, test_actuals, test_preds, test_outputs = eval_model(model, \n",
    "                                                                                device, \n",
    "                                                                                test_loader, \n",
    "                                                                                loss_function, \n",
    "                                                                                len(test_df))\n",
    "        test_preds_list.append(test_preds)\n",
    "        test_outputs_list.append(test_outputs)\n",
    "        \n",
    "        fold += 1\n",
    "\n",
    "    print(str(NFOLDS), 'Fold CV Train Time: ', format_time(time.time() - start_time))\n",
    "\n",
    "    return history_list, test_outputs_list"
   ]
  },
  {
   "cell_type": "markdown",
   "id": "incident-refrigerator",
   "metadata": {},
   "source": [
    "La fonction de perte choisie est la cross entropy.\n",
    "La perte de Cross-entropy croit lorsque la probabilité prédite pour une classe diverge du label réel. Ainsi, uen prédiction de 0,12 alors que le label réel est 1 se traduirait en une forte pénalisation. Un modèle parfait aurait une log loss de 0."
   ]
  },
  {
   "cell_type": "code",
   "execution_count": 20,
   "id": "excited-organ",
   "metadata": {},
   "outputs": [],
   "source": [
    "loss_function = nn.CrossEntropyLoss().to(device)"
   ]
  },
  {
   "cell_type": "markdown",
   "id": "established-fancy",
   "metadata": {},
   "source": [
    "Pour la féinition des k fold on efefctue un échantillonnage stratifié afin de conserver la proportion de chaque classe."
   ]
  },
  {
   "cell_type": "code",
   "execution_count": 21,
   "id": "western-colors",
   "metadata": {},
   "outputs": [],
   "source": [
    "skf = StratifiedKFold(n_splits=NFOLDS, shuffle=True, random_state=RANDOM_SEED)"
   ]
  },
  {
   "cell_type": "markdown",
   "id": "intense-selection",
   "metadata": {},
   "source": [
    "### Données"
   ]
  },
  {
   "cell_type": "markdown",
   "id": "protected-poster",
   "metadata": {},
   "source": [
    ":::{warning}\n",
    "On est obligé de recoder les sorties car laisser un label cible négatif génère une erreur `CUDA error: device-side assert triggered`\n",
    "cf [lien](https://discuss.pytorch.org/t/runtimeerror-cuda-error-device-side-assert-triggered/34213/8)\n",
    ":::"
   ]
  },
  {
   "cell_type": "code",
   "execution_count": 22,
   "id": "celtic-director",
   "metadata": {},
   "outputs": [],
   "source": [
    "le = LabelEncoder()\n",
    "df_train['sentiment'] = le.fit_transform(df_train['sentiment'])\n",
    "df_val['sentiment'] = le.fit_transform(df_val['sentiment'])\n",
    "df_test['sentiment'] = le.fit_transform(df_test['sentiment'])"
   ]
  },
  {
   "cell_type": "code",
   "execution_count": 81,
   "id": "persistent-surrey",
   "metadata": {},
   "outputs": [
    {
     "data": {
      "text/html": [
       "<div>\n",
       "<style scoped>\n",
       "    .dataframe tbody tr th:only-of-type {\n",
       "        vertical-align: middle;\n",
       "    }\n",
       "\n",
       "    .dataframe tbody tr th {\n",
       "        vertical-align: top;\n",
       "    }\n",
       "\n",
       "    .dataframe thead th {\n",
       "        text-align: right;\n",
       "    }\n",
       "</style>\n",
       "<table border=\"1\" class=\"dataframe\">\n",
       "  <thead>\n",
       "    <tr style=\"text-align: right;\">\n",
       "      <th></th>\n",
       "      <th>text</th>\n",
       "      <th>sentiment</th>\n",
       "    </tr>\n",
       "  </thead>\n",
       "  <tbody>\n",
       "    <tr>\n",
       "      <th>0</th>\n",
       "      <td>I`d have responded, if I were going</td>\n",
       "      <td>1</td>\n",
       "    </tr>\n",
       "    <tr>\n",
       "      <th>1</th>\n",
       "      <td>Sooo SAD I will miss you here in San Diego!!!</td>\n",
       "      <td>0</td>\n",
       "    </tr>\n",
       "    <tr>\n",
       "      <th>2</th>\n",
       "      <td>my boss is bullying me...</td>\n",
       "      <td>0</td>\n",
       "    </tr>\n",
       "    <tr>\n",
       "      <th>3</th>\n",
       "      <td>what interview! leave me alone</td>\n",
       "      <td>0</td>\n",
       "    </tr>\n",
       "    <tr>\n",
       "      <th>4</th>\n",
       "      <td>Sons of ****, why couldn`t they put them on t...</td>\n",
       "      <td>0</td>\n",
       "    </tr>\n",
       "    <tr>\n",
       "      <th>...</th>\n",
       "      <td>...</td>\n",
       "      <td>...</td>\n",
       "    </tr>\n",
       "    <tr>\n",
       "      <th>21979</th>\n",
       "      <td>No allowed a calculator for this exam despite ...</td>\n",
       "      <td>0</td>\n",
       "    </tr>\n",
       "    <tr>\n",
       "      <th>21980</th>\n",
       "      <td>Haha same as miine</td>\n",
       "      <td>1</td>\n",
       "    </tr>\n",
       "    <tr>\n",
       "      <th>21981</th>\n",
       "      <td>i`m sorry people are so rude to you, isaac, ...</td>\n",
       "      <td>0</td>\n",
       "    </tr>\n",
       "    <tr>\n",
       "      <th>21982</th>\n",
       "      <td>why? i enjoy fancy meals on my own smtimes, t...</td>\n",
       "      <td>2</td>\n",
       "    </tr>\n",
       "    <tr>\n",
       "      <th>21983</th>\n",
       "      <td>oh yeah - love his choregoraphy. the pants......</td>\n",
       "      <td>1</td>\n",
       "    </tr>\n",
       "  </tbody>\n",
       "</table>\n",
       "<p>21984 rows × 2 columns</p>\n",
       "</div>"
      ],
      "text/plain": [
       "                                                    text  sentiment\n",
       "0                    I`d have responded, if I were going          1\n",
       "1          Sooo SAD I will miss you here in San Diego!!!          0\n",
       "2                              my boss is bullying me...          0\n",
       "3                         what interview! leave me alone          0\n",
       "4       Sons of ****, why couldn`t they put them on t...          0\n",
       "...                                                  ...        ...\n",
       "21979  No allowed a calculator for this exam despite ...          0\n",
       "21980                                 Haha same as miine          1\n",
       "21981    i`m sorry people are so rude to you, isaac, ...          0\n",
       "21982   why? i enjoy fancy meals on my own smtimes, t...          2\n",
       "21983   oh yeah - love his choregoraphy. the pants......          1\n",
       "\n",
       "[21984 rows x 2 columns]"
      ]
     },
     "execution_count": 81,
     "metadata": {},
     "output_type": "execute_result"
    }
   ],
   "source": [
    "df_train"
   ]
  },
  {
   "cell_type": "code",
   "execution_count": 82,
   "id": "mighty-founder",
   "metadata": {},
   "outputs": [
    {
     "data": {
      "text/html": [
       "<div>\n",
       "<style scoped>\n",
       "    .dataframe tbody tr th:only-of-type {\n",
       "        vertical-align: middle;\n",
       "    }\n",
       "\n",
       "    .dataframe tbody tr th {\n",
       "        vertical-align: top;\n",
       "    }\n",
       "\n",
       "    .dataframe thead th {\n",
       "        text-align: right;\n",
       "    }\n",
       "</style>\n",
       "<table border=\"1\" class=\"dataframe\">\n",
       "  <thead>\n",
       "    <tr style=\"text-align: right;\">\n",
       "      <th></th>\n",
       "      <th>text</th>\n",
       "      <th>sentiment</th>\n",
       "    </tr>\n",
       "  </thead>\n",
       "  <tbody>\n",
       "    <tr>\n",
       "      <th>21984</th>\n",
       "      <td>_JessicaB_**** yip.....aw gonna miss them on bb</td>\n",
       "      <td>0</td>\n",
       "    </tr>\n",
       "    <tr>\n",
       "      <th>21985</th>\n",
       "      <td>_violence heyyyy babyy</td>\n",
       "      <td>0</td>\n",
       "    </tr>\n",
       "    <tr>\n",
       "      <th>21986</th>\n",
       "      <td>Up at 6am on Sunday... Going to meet my mom fo...</td>\n",
       "      <td>1</td>\n",
       "    </tr>\n",
       "    <tr>\n",
       "      <th>21987</th>\n",
       "      <td>so the Today show still hasn`t gotten in touch...</td>\n",
       "      <td>1</td>\n",
       "    </tr>\n",
       "    <tr>\n",
       "      <th>21988</th>\n",
       "      <td>Just checked email and got a follower withb sa...</td>\n",
       "      <td>1</td>\n",
       "    </tr>\n",
       "    <tr>\n",
       "      <th>...</th>\n",
       "      <td>...</td>\n",
       "      <td>...</td>\n",
       "    </tr>\n",
       "    <tr>\n",
       "      <th>27475</th>\n",
       "      <td>wish we could come see u on Denver  husband l...</td>\n",
       "      <td>0</td>\n",
       "    </tr>\n",
       "    <tr>\n",
       "      <th>27476</th>\n",
       "      <td>I`ve wondered about rake to.  The client has ...</td>\n",
       "      <td>0</td>\n",
       "    </tr>\n",
       "    <tr>\n",
       "      <th>27477</th>\n",
       "      <td>Yay good for both of you. Enjoy the break - y...</td>\n",
       "      <td>2</td>\n",
       "    </tr>\n",
       "    <tr>\n",
       "      <th>27478</th>\n",
       "      <td>But it was worth it  ****.</td>\n",
       "      <td>2</td>\n",
       "    </tr>\n",
       "    <tr>\n",
       "      <th>27479</th>\n",
       "      <td>All this flirting going on - The ATG smiles...</td>\n",
       "      <td>1</td>\n",
       "    </tr>\n",
       "  </tbody>\n",
       "</table>\n",
       "<p>5496 rows × 2 columns</p>\n",
       "</div>"
      ],
      "text/plain": [
       "                                                    text  sentiment\n",
       "21984    _JessicaB_**** yip.....aw gonna miss them on bb          0\n",
       "21985                             _violence heyyyy babyy          0\n",
       "21986  Up at 6am on Sunday... Going to meet my mom fo...          1\n",
       "21987  so the Today show still hasn`t gotten in touch...          1\n",
       "21988  Just checked email and got a follower withb sa...          1\n",
       "...                                                  ...        ...\n",
       "27475   wish we could come see u on Denver  husband l...          0\n",
       "27476   I`ve wondered about rake to.  The client has ...          0\n",
       "27477   Yay good for both of you. Enjoy the break - y...          2\n",
       "27478                         But it was worth it  ****.          2\n",
       "27479     All this flirting going on - The ATG smiles...          1\n",
       "\n",
       "[5496 rows x 2 columns]"
      ]
     },
     "execution_count": 82,
     "metadata": {},
     "output_type": "execute_result"
    }
   ],
   "source": [
    "df_val"
   ]
  },
  {
   "cell_type": "code",
   "execution_count": 25,
   "id": "included-automation",
   "metadata": {},
   "outputs": [
    {
     "data": {
      "text/html": [
       "<div>\n",
       "<style scoped>\n",
       "    .dataframe tbody tr th:only-of-type {\n",
       "        vertical-align: middle;\n",
       "    }\n",
       "\n",
       "    .dataframe tbody tr th {\n",
       "        vertical-align: top;\n",
       "    }\n",
       "\n",
       "    .dataframe thead th {\n",
       "        text-align: right;\n",
       "    }\n",
       "</style>\n",
       "<table border=\"1\" class=\"dataframe\">\n",
       "  <thead>\n",
       "    <tr style=\"text-align: right;\">\n",
       "      <th></th>\n",
       "      <th>text</th>\n",
       "      <th>sentiment</th>\n",
       "    </tr>\n",
       "  </thead>\n",
       "  <tbody>\n",
       "    <tr>\n",
       "      <th>0</th>\n",
       "      <td>I`d have responded, if I were going</td>\n",
       "      <td>1</td>\n",
       "    </tr>\n",
       "    <tr>\n",
       "      <th>1</th>\n",
       "      <td>Sooo SAD I will miss you here in San Diego!!!</td>\n",
       "      <td>0</td>\n",
       "    </tr>\n",
       "    <tr>\n",
       "      <th>2</th>\n",
       "      <td>my boss is bullying me...</td>\n",
       "      <td>0</td>\n",
       "    </tr>\n",
       "    <tr>\n",
       "      <th>3</th>\n",
       "      <td>what interview! leave me alone</td>\n",
       "      <td>0</td>\n",
       "    </tr>\n",
       "    <tr>\n",
       "      <th>4</th>\n",
       "      <td>Sons of ****, why couldn`t they put them on t...</td>\n",
       "      <td>0</td>\n",
       "    </tr>\n",
       "    <tr>\n",
       "      <th>...</th>\n",
       "      <td>...</td>\n",
       "      <td>...</td>\n",
       "    </tr>\n",
       "    <tr>\n",
       "      <th>27475</th>\n",
       "      <td>wish we could come see u on Denver  husband l...</td>\n",
       "      <td>0</td>\n",
       "    </tr>\n",
       "    <tr>\n",
       "      <th>27476</th>\n",
       "      <td>I`ve wondered about rake to.  The client has ...</td>\n",
       "      <td>0</td>\n",
       "    </tr>\n",
       "    <tr>\n",
       "      <th>27477</th>\n",
       "      <td>Yay good for both of you. Enjoy the break - y...</td>\n",
       "      <td>2</td>\n",
       "    </tr>\n",
       "    <tr>\n",
       "      <th>27478</th>\n",
       "      <td>But it was worth it  ****.</td>\n",
       "      <td>2</td>\n",
       "    </tr>\n",
       "    <tr>\n",
       "      <th>27479</th>\n",
       "      <td>All this flirting going on - The ATG smiles...</td>\n",
       "      <td>1</td>\n",
       "    </tr>\n",
       "  </tbody>\n",
       "</table>\n",
       "<p>27480 rows × 2 columns</p>\n",
       "</div>"
      ],
      "text/plain": [
       "                                                    text  sentiment\n",
       "0                    I`d have responded, if I were going          1\n",
       "1          Sooo SAD I will miss you here in San Diego!!!          0\n",
       "2                              my boss is bullying me...          0\n",
       "3                         what interview! leave me alone          0\n",
       "4       Sons of ****, why couldn`t they put them on t...          0\n",
       "...                                                  ...        ...\n",
       "27475   wish we could come see u on Denver  husband l...          0\n",
       "27476   I`ve wondered about rake to.  The client has ...          0\n",
       "27477   Yay good for both of you. Enjoy the break - y...          2\n",
       "27478                         But it was worth it  ****.          2\n",
       "27479     All this flirting going on - The ATG smiles...          1\n",
       "\n",
       "[27480 rows x 2 columns]"
      ]
     },
     "execution_count": 25,
     "metadata": {},
     "output_type": "execute_result"
    }
   ],
   "source": [
    "df_train_full = pd.concat([df_train, df_val])\n",
    "df_train_full"
   ]
  },
  {
   "cell_type": "markdown",
   "id": "addressed-petersburg",
   "metadata": {},
   "source": [
    "### BERT"
   ]
  },
  {
   "cell_type": "markdown",
   "id": "handy-saskatchewan",
   "metadata": {},
   "source": [
    "#### Single Model"
   ]
  },
  {
   "cell_type": "markdown",
   "id": "painted-processor",
   "metadata": {},
   "source": [
    "Beaucoup d'allers retours ont été faits. Afin d'éviter de staurer la mémoir ede la carte graphique il est nécessire de vider la mémoir cache régulièrement."
   ]
  },
  {
   "cell_type": "code",
   "execution_count": 31,
   "id": "appropriate-layout",
   "metadata": {},
   "outputs": [],
   "source": [
    "del distilbert_model\n",
    "gc.collect()\n",
    "torch.cuda.empty_cache()\n"
   ]
  },
  {
   "cell_type": "markdown",
   "id": "english-sally",
   "metadata": {},
   "source": [
    "On utilise un modèle BERT classique"
   ]
  },
  {
   "cell_type": "code",
   "execution_count": 32,
   "id": "promotional-coupon",
   "metadata": {},
   "outputs": [],
   "source": [
    "BERT_MODEL_NAME = 'bert-base-cased'\n",
    "bert_tokenizer = BertTokenizer.from_pretrained(BERT_MODEL_NAME)"
   ]
  },
  {
   "cell_type": "markdown",
   "id": "piano-nightlife",
   "metadata": {},
   "source": [
    "On créée un DataLoader adapté au tokenizer de BERT"
   ]
  },
  {
   "cell_type": "code",
   "execution_count": 33,
   "id": "lesbian-harvard",
   "metadata": {},
   "outputs": [],
   "source": [
    "bert_train_ds = create_dataset(df_train, bert_tokenizer, MAX_LENGTH)\n",
    "bert_test_ds = create_dataset(df_test, bert_tokenizer, MAX_LENGTH)\n",
    "bert_val_ds = create_dataset(df_val, bert_tokenizer, MAX_LENGTH)\n",
    "\n",
    "bert_train_dataloader = create_dataloader(bert_train_ds, BATCH_SIZE)\n",
    "bert_test_dataloader = create_dataloader(bert_test_ds, BATCH_SIZE)\n",
    "bert_val_dataloader = create_dataloader(bert_val_ds, BATCH_SIZE)"
   ]
  },
  {
   "cell_type": "code",
   "execution_count": 34,
   "id": "nuclear-jewel",
   "metadata": {},
   "outputs": [],
   "source": [
    "class BERTSentimentClassifier(nn.Module):\n",
    "    def __init__(self, n_classes):\n",
    "        super(BERTSentimentClassifier, self).__init__()\n",
    "        self.model = BertModel.from_pretrained(BERT_MODEL_NAME, return_dict=False) #ATTENTION : il faut rajouter return_dict=False ici cf https://huggingface.co/transformers/migration.html\n",
    "        self.drop = nn.Dropout(DROPOUT_PROB)\n",
    "        self.output = nn.Linear(self.model.config.hidden_size, n_classes)\n",
    "        \n",
    "    def forward(self, input_ids, attention_mask):\n",
    "        _, pooled_output = self.model(\n",
    "            input_ids = input_ids,\n",
    "            attention_mask=attention_mask\n",
    "        )\n",
    "\n",
    "        output = self.drop(pooled_output)\n",
    "        \n",
    "        return self.output(output)\n"
   ]
  },
  {
   "cell_type": "markdown",
   "id": "criminal-detail",
   "metadata": {},
   "source": [
    "On charge le modèle BERT. Ce faisant on écrase la dernière couche du modèle qu'on réentraînera"
   ]
  },
  {
   "cell_type": "code",
   "execution_count": 35,
   "id": "silver-actor",
   "metadata": {},
   "outputs": [],
   "source": [
    "bert_model = BERTSentimentClassifier(NUM_CLASSES)\n",
    "bert_model = bert_model.to(device)"
   ]
  },
  {
   "cell_type": "markdown",
   "id": "conservative-imperial",
   "metadata": {},
   "source": [
    "On définit le moteur d'optimisation"
   ]
  },
  {
   "cell_type": "code",
   "execution_count": 36,
   "id": "attended-statement",
   "metadata": {},
   "outputs": [],
   "source": [
    "training_steps = len(bert_train_dataloader.dataset) * EPOCHS\n",
    "\n",
    "bert_optimizer = AdamW(bert_model.parameters(), \n",
    "                       lr=LEARNING_RATE, \n",
    "                       weight_decay=WEIGHT_DECAY, \n",
    "                       correct_bias=True)\n",
    "\n",
    "warmup_steps = int(0.1 * training_steps)\n",
    "bert_scheduler = get_linear_schedule_with_warmup(bert_optimizer, \n",
    "                                                 num_warmup_steps=warmup_steps, \n",
    "                                                 num_training_steps=training_steps)"
   ]
  },
  {
   "cell_type": "markdown",
   "id": "latin-consultancy",
   "metadata": {},
   "source": [
    "On commence par l'ajustement d'un modèle BERT sur le jeu de données train"
   ]
  },
  {
   "cell_type": "code",
   "execution_count": 37,
   "id": "pacific-multimedia",
   "metadata": {},
   "outputs": [
    {
     "name": "stdout",
     "output_type": "stream",
     "text": [
      "Epoch  1 / 5\n",
      "--------------------------------------------------\n",
      "Train Loss:  0.9318898132361005  |  Train Accuracy:  0.5406659388646288\n",
      "Val Loss:  0.6341141717031945  |  Val Accuracy:  0.7387190684133915\n",
      "Epoch Train Time:  0:03:58\n",
      "\n",
      "\n",
      "Epoch  2 / 5\n",
      "--------------------------------------------------\n",
      "Train Loss:  0.5870891877136897  |  Train Accuracy:  0.761735807860262\n",
      "Val Loss:  0.5520704225745312  |  Val Accuracy:  0.7720160116448326\n",
      "Epoch Train Time:  0:03:59\n",
      "\n",
      "\n",
      "Epoch  3 / 5\n",
      "--------------------------------------------------\n",
      "Train Loss:  0.4959308845160483  |  Train Accuracy:  0.8064501455604076\n",
      "Val Loss:  0.5590653404766737  |  Val Accuracy:  0.777292576419214\n",
      "Epoch Train Time:  0:04:00\n",
      "\n",
      "\n",
      "Epoch  4 / 5\n",
      "--------------------------------------------------\n",
      "Train Loss:  0.4160484819113124  |  Train Accuracy:  0.8476619359534207\n",
      "Val Loss:  0.6347552118822932  |  Val Accuracy:  0.772197962154294\n",
      "Epoch Train Time:  0:03:58\n",
      "\n",
      "\n",
      "Epoch  5 / 5\n",
      "--------------------------------------------------\n",
      "Train Loss:  0.3328116309335604  |  Train Accuracy:  0.8863719068413392\n",
      "Val Loss:  0.764754705001102  |  Val Accuracy:  0.7701965065502183\n",
      "Epoch Train Time:  0:04:00\n",
      "\n",
      "\n",
      "Finished Training.\n",
      "Fold Train Time:  0:19:56\n",
      "\n",
      "\n",
      "[[ 803  180   18]\n",
      " [ 228 1071  131]\n",
      " [  24  223  856]]\n",
      "\n",
      "              precision    recall  f1-score   support\n",
      "\n",
      "    negative      0.761     0.802     0.781      1001\n",
      "     neutral      0.727     0.749     0.738      1430\n",
      "    positive      0.852     0.776     0.812      1103\n",
      "\n",
      "    accuracy                          0.772      3534\n",
      "   macro avg      0.780     0.776     0.777      3534\n",
      "weighted avg      0.775     0.772     0.773      3534\n",
      "\n"
     ]
    },
    {
     "data": {
      "image/png": "[encoded data removed]",
      "text/plain": [
       "<Figure size 360x216 with 1 Axes>"
      ]
     },
     "metadata": {
      "filenames": {
       "image/png": "/mnt/rapport/_build/jupyter_execute/notebooks/nn_62_1.png"
      }
     },
     "output_type": "display_data"
    }
   ],
   "source": [
    "bert_single_model_items = train_fold(mlf_XP='BERT', \n",
    "                                     xp_name_iter='BERT',\n",
    "                                     epochs=EPOCHS, \n",
    "                                     model=bert_model, \n",
    "                                     device=device, \n",
    "                                     train_dataloader=bert_train_dataloader, \n",
    "                                     val_dataloader=bert_val_dataloader,\n",
    "                                     test_dataloader=bert_test_dataloader,\n",
    "                                     loss_fn=loss_function,\n",
    "                                     optimizer=bert_optimizer,\n",
    "                                     scheduler=bert_scheduler,\n",
    "                                     model_save_name='bert_best_model.bin',\n",
    "                                     n_train=len(df_train),\n",
    "                                     n_val=len(df_val),\n",
    "                                     single_model=True\n",
    "                                    )"
   ]
  },
  {
   "cell_type": "markdown",
   "id": "given-privilege",
   "metadata": {},
   "source": [
    ":::{note}\n",
    "Le modèle BERT arrive à un f& macro de **77,7%** sur le jeu de test et se classe directement en tête des modèles\n",
    ":::"
   ]
  },
  {
   "cell_type": "code",
   "execution_count": 43,
   "id": "every-explorer",
   "metadata": {
    "tags": [
     "remove-cell"
    ]
   },
   "outputs": [
    {
     "data": {
      "text/html": [
       "<div>\n",
       "<style scoped>\n",
       "    .dataframe tbody tr th:only-of-type {\n",
       "        vertical-align: middle;\n",
       "    }\n",
       "\n",
       "    .dataframe tbody tr th {\n",
       "        vertical-align: top;\n",
       "    }\n",
       "\n",
       "    .dataframe thead th {\n",
       "        text-align: right;\n",
       "    }\n",
       "</style>\n",
       "<table border=\"1\" class=\"dataframe\">\n",
       "  <thead>\n",
       "    <tr style=\"text-align: right;\">\n",
       "      <th></th>\n",
       "      <th>modèle</th>\n",
       "      <th>f1_macro_test</th>\n",
       "    </tr>\n",
       "  </thead>\n",
       "  <tbody>\n",
       "    <tr>\n",
       "      <th>0</th>\n",
       "      <td>BERT</td>\n",
       "      <td>0.777</td>\n",
       "    </tr>\n",
       "  </tbody>\n",
       "</table>\n",
       "</div>"
      ],
      "text/plain": [
       "  modèle  f1_macro_test\n",
       "0   BERT          0.777"
      ]
     },
     "execution_count": 43,
     "metadata": {},
     "output_type": "execute_result"
    }
   ],
   "source": [
    "item = pd.DataFrame([['BERT', 0.777]], columns=['modèle', 'f1_macro_test'])\n",
    "\n",
    "item"
   ]
  },
  {
   "cell_type": "code",
   "execution_count": 46,
   "id": "aware-scotland",
   "metadata": {
    "tags": [
     "remove-cell"
    ]
   },
   "outputs": [],
   "source": [
    "res_fin=res_fin2.append(item).sort_values(by='f1_macro_test',ascending=False)"
   ]
  },
  {
   "cell_type": "code",
   "execution_count": 47,
   "id": "constitutional-inflation",
   "metadata": {
    "tags": [
     "remove-input"
    ]
   },
   "outputs": [
    {
     "data": {
      "text/html": [
       "<div>\n",
       "<style scoped>\n",
       "    .dataframe tbody tr th:only-of-type {\n",
       "        vertical-align: middle;\n",
       "    }\n",
       "\n",
       "    .dataframe tbody tr th {\n",
       "        vertical-align: top;\n",
       "    }\n",
       "\n",
       "    .dataframe thead th {\n",
       "        text-align: right;\n",
       "    }\n",
       "</style>\n",
       "<table border=\"1\" class=\"dataframe\">\n",
       "  <thead>\n",
       "    <tr style=\"text-align: right;\">\n",
       "      <th></th>\n",
       "      <th>modèle</th>\n",
       "      <th>f1_macro_val</th>\n",
       "      <th>f1_macro_test</th>\n",
       "    </tr>\n",
       "  </thead>\n",
       "  <tbody>\n",
       "    <tr>\n",
       "      <th>0</th>\n",
       "      <td>BERT</td>\n",
       "      <td>NaN</td>\n",
       "      <td>0.777000</td>\n",
       "    </tr>\n",
       "    <tr>\n",
       "      <th>0</th>\n",
       "      <td>roBERTa_xgb_opti_</td>\n",
       "      <td>0.759147</td>\n",
       "      <td>0.759953</td>\n",
       "    </tr>\n",
       "    <tr>\n",
       "      <th>1</th>\n",
       "      <td>roBERTa_Blob_Vader_RF_opti_</td>\n",
       "      <td>0.756699</td>\n",
       "      <td>0.750216</td>\n",
       "    </tr>\n",
       "    <tr>\n",
       "      <th>2</th>\n",
       "      <td>roBERTa_RF_opti_</td>\n",
       "      <td>0.746630</td>\n",
       "      <td>NaN</td>\n",
       "    </tr>\n",
       "    <tr>\n",
       "      <th>3</th>\n",
       "      <td>TfIdf_LR_opti_modif_seuil</td>\n",
       "      <td>0.709477</td>\n",
       "      <td>NaN</td>\n",
       "    </tr>\n",
       "    <tr>\n",
       "      <th>4</th>\n",
       "      <td>base_TfIdf_RF_prepro_</td>\n",
       "      <td>0.707919</td>\n",
       "      <td>NaN</td>\n",
       "    </tr>\n",
       "    <tr>\n",
       "      <th>5</th>\n",
       "      <td>base_TfIdf_RF_prepro_opti_</td>\n",
       "      <td>0.706432</td>\n",
       "      <td>NaN</td>\n",
       "    </tr>\n",
       "    <tr>\n",
       "      <th>6</th>\n",
       "      <td>roBERTa_RF_</td>\n",
       "      <td>0.705912</td>\n",
       "      <td>NaN</td>\n",
       "    </tr>\n",
       "    <tr>\n",
       "      <th>7</th>\n",
       "      <td>TfIdf_LR_opti_</td>\n",
       "      <td>0.699877</td>\n",
       "      <td>NaN</td>\n",
       "    </tr>\n",
       "    <tr>\n",
       "      <th>8</th>\n",
       "      <td>TfIdf_LR_prepro_opti_</td>\n",
       "      <td>0.698565</td>\n",
       "      <td>NaN</td>\n",
       "    </tr>\n",
       "    <tr>\n",
       "      <th>9</th>\n",
       "      <td>base_TfIdf_RF_</td>\n",
       "      <td>0.669789</td>\n",
       "      <td>NaN</td>\n",
       "    </tr>\n",
       "  </tbody>\n",
       "</table>\n",
       "</div>"
      ],
      "text/plain": [
       "                        modèle  f1_macro_val  f1_macro_test\n",
       "0                         BERT           NaN       0.777000\n",
       "0            roBERTa_xgb_opti_      0.759147       0.759953\n",
       "1  roBERTa_Blob_Vader_RF_opti_      0.756699       0.750216\n",
       "2             roBERTa_RF_opti_      0.746630            NaN\n",
       "3    TfIdf_LR_opti_modif_seuil      0.709477            NaN\n",
       "4        base_TfIdf_RF_prepro_      0.707919            NaN\n",
       "5   base_TfIdf_RF_prepro_opti_      0.706432            NaN\n",
       "6                  roBERTa_RF_      0.705912            NaN\n",
       "7               TfIdf_LR_opti_      0.699877            NaN\n",
       "8        TfIdf_LR_prepro_opti_      0.698565            NaN\n",
       "9               base_TfIdf_RF_      0.669789            NaN"
      ]
     },
     "execution_count": 47,
     "metadata": {},
     "output_type": "execute_result"
    }
   ],
   "source": [
    "res_fin"
   ]
  },
  {
   "cell_type": "markdown",
   "id": "german-omega",
   "metadata": {},
   "source": [
    "### DistilBERT"
   ]
  },
  {
   "cell_type": "markdown",
   "id": "automotive-temperature",
   "metadata": {},
   "source": [
    "On reprend ici la même logique que pour BERT"
   ]
  },
  {
   "cell_type": "markdown",
   "id": "considerable-hayes",
   "metadata": {},
   "source": [
    "#### Single Model"
   ]
  },
  {
   "cell_type": "code",
   "execution_count": 23,
   "id": "gothic-white",
   "metadata": {},
   "outputs": [],
   "source": [
    "DISTILBERT_MODEL_NAME = 'distilbert-base-uncased'\n",
    "distilbert_tokenizer = DistilBertTokenizer.from_pretrained(DISTILBERT_MODEL_NAME)"
   ]
  },
  {
   "cell_type": "code",
   "execution_count": 24,
   "id": "trained-vacation",
   "metadata": {},
   "outputs": [],
   "source": [
    "distilbert_train_ds = create_dataset(df_train, distilbert_tokenizer, MAX_LENGTH)\n",
    "distilbert_test_ds = create_dataset(df_test, distilbert_tokenizer, MAX_LENGTH)\n",
    "distilbert_val_ds = create_dataset(df_val, distilbert_tokenizer, MAX_LENGTH)\n",
    "\n",
    "distilbert_train_dataloader = create_dataloader(distilbert_train_ds, BATCH_SIZE)\n",
    "distilbert_test_dataloader = create_dataloader(distilbert_test_ds, BATCH_SIZE)\n",
    "distilbert_val_dataloader = create_dataloader(distilbert_val_ds, BATCH_SIZE)"
   ]
  },
  {
   "cell_type": "code",
   "execution_count": 25,
   "id": "collaborative-peace",
   "metadata": {},
   "outputs": [
    {
     "data": {
      "text/plain": [
       "<__main__.TweetDataset at 0x7f4961ff3670>"
      ]
     },
     "execution_count": 25,
     "metadata": {},
     "output_type": "execute_result"
    }
   ],
   "source": [
    "distilbert_train_ds"
   ]
  },
  {
   "cell_type": "code",
   "execution_count": 26,
   "id": "naval-jacksonville",
   "metadata": {},
   "outputs": [],
   "source": [
    "class DistilBertForSequenceClassification(nn.Module):\n",
    "\n",
    "    def __init__(self, pretrained_model_name, num_classes):\n",
    "\n",
    "        super().__init__()\n",
    "\n",
    "        config = AutoConfig.from_pretrained(pretrained_model_name, num_labels=num_classes)\n",
    "\n",
    "        self.distilbert = AutoModel.from_pretrained(pretrained_model_name, config=config)\n",
    "        self.pre_classifier = nn.Linear(config.dim, config.dim)\n",
    "        self.classifier = nn.Linear(config.dim, num_classes)\n",
    "        self.dropout = nn.Dropout(config.seq_classif_dropout)\n",
    "\n",
    "    def forward(self, input_ids, attention_mask=None, head_mask=None):\n",
    "\n",
    "        assert attention_mask is not None, \"No Attention Mask\"\n",
    "        distilbert_output = self.distilbert(input_ids=input_ids,\n",
    "                                            attention_mask=attention_mask,\n",
    "                                            head_mask=head_mask)\n",
    "\n",
    "        hidden_state = distilbert_output[0]  \n",
    "        pooled_output = hidden_state[:, 0] \n",
    "        pooled_output = self.pre_classifier(pooled_output)  \n",
    "        pooled_output = nn.ReLU()(pooled_output)  \n",
    "        pooled_output = self.dropout(pooled_output)  \n",
    "        logits = self.classifier(pooled_output)  \n",
    "\n",
    "        return logits"
   ]
  },
  {
   "cell_type": "code",
   "execution_count": 27,
   "id": "pretty-basin",
   "metadata": {},
   "outputs": [
    {
     "data": {
      "application/vnd.jupyter.widget-view+json": {
       "model_id": "99d5250cb979411f8e91172ccca10eef",
       "version_major": 2,
       "version_minor": 0
      },
      "text/plain": [
       "HBox(children=(FloatProgress(value=0.0, description='Downloading', max=442.0, style=ProgressStyle(description_…"
      ]
     },
     "metadata": {},
     "output_type": "display_data"
    },
    {
     "name": "stdout",
     "output_type": "stream",
     "text": [
      "\n"
     ]
    },
    {
     "data": {
      "application/vnd.jupyter.widget-view+json": {
       "model_id": "762cc910ee2646b5ace87b1512eb5b55",
       "version_major": 2,
       "version_minor": 0
      },
      "text/plain": [
       "HBox(children=(FloatProgress(value=0.0, description='Downloading', max=267967963.0, style=ProgressStyle(descri…"
      ]
     },
     "metadata": {},
     "output_type": "display_data"
    },
    {
     "name": "stdout",
     "output_type": "stream",
     "text": [
      "\n"
     ]
    }
   ],
   "source": [
    "distilbert_model = DistilBertForSequenceClassification(pretrained_model_name=DISTILBERT_MODEL_NAME, num_classes=NUM_CLASSES)\n",
    "distilbert_model = distilbert_model.to(device)"
   ]
  },
  {
   "cell_type": "code",
   "execution_count": 28,
   "id": "everyday-costs",
   "metadata": {},
   "outputs": [],
   "source": [
    "training_steps = len(distilbert_train_dataloader.dataset) * EPOCHS\n",
    "\n",
    "distilbert_optimizer = AdamW(distilbert_model.parameters(), lr=LEARNING_RATE, weight_decay=WEIGHT_DECAY, correct_bias=True)\n",
    "distilbert_scheduler = get_linear_schedule_with_warmup(distilbert_optimizer, num_warmup_steps=int(0.1 * training_steps), num_training_steps=training_steps)"
   ]
  },
  {
   "cell_type": "code",
   "execution_count": 29,
   "id": "insured-cross",
   "metadata": {},
   "outputs": [
    {
     "data": {
      "text/plain": [
       "device(type='cuda')"
      ]
     },
     "execution_count": 29,
     "metadata": {},
     "output_type": "execute_result"
    }
   ],
   "source": [
    "device"
   ]
  },
  {
   "cell_type": "code",
   "execution_count": 30,
   "id": "married-saudi",
   "metadata": {},
   "outputs": [
    {
     "name": "stdout",
     "output_type": "stream",
     "text": [
      "Epoch  1 / 5\n",
      "--------------------------------------------------\n",
      "Train Loss:  0.9396719512417153  |  Train Accuracy:  0.5367540029112081\n",
      "Val Loss:  0.6267227158816748  |  Val Accuracy:  0.7505458515283843\n",
      "Epoch Train Time:  0:02:09\n",
      "\n",
      "\n",
      "Epoch  2 / 5\n",
      "--------------------------------------------------\n",
      "Train Loss:  0.5887683325784696  |  Train Accuracy:  0.7622361717612809\n",
      "Val Loss:  0.5463424418987923  |  Val Accuracy:  0.7736535662299855\n",
      "Epoch Train Time:  0:02:07\n",
      "\n",
      "\n",
      "Epoch  3 / 5\n",
      "--------------------------------------------------\n",
      "Train Loss:  0.510728445874725  |  Train Accuracy:  0.7969887190684134\n",
      "Val Loss:  0.5309577705988358  |  Val Accuracy:  0.7862081513828238\n",
      "Epoch Train Time:  0:02:07\n",
      "\n",
      "\n",
      "Epoch  4 / 5\n",
      "--------------------------------------------------\n",
      "Train Loss:  0.44334969244723843  |  Train Accuracy:  0.8310134643377002\n",
      "Val Loss:  0.578479872539986  |  Val Accuracy:  0.7860262008733624\n",
      "Epoch Train Time:  0:02:07\n",
      "\n",
      "\n",
      "Epoch  5 / 5\n",
      "--------------------------------------------------\n",
      "Train Loss:  0.37767219023570264  |  Train Accuracy:  0.8633096797671034\n",
      "Val Loss:  0.6317601318167912  |  Val Accuracy:  0.7809315866084425\n",
      "Epoch Train Time:  0:02:06\n",
      "\n",
      "\n",
      "Finished Training.\n",
      "Fold Train Time:  0:10:37\n",
      "\n",
      "\n",
      "[[ 790  189   22]\n",
      " [ 206 1087  137]\n",
      " [  26  187  890]]\n",
      "\n",
      "              precision    recall  f1-score   support\n",
      "\n",
      "    negative      0.773     0.789     0.781      1001\n",
      "     neutral      0.743     0.760     0.751      1430\n",
      "    positive      0.848     0.807     0.827      1103\n",
      "\n",
      "    accuracy                          0.783      3534\n",
      "   macro avg      0.788     0.785     0.787      3534\n",
      "weighted avg      0.784     0.783     0.783      3534\n",
      "\n"
     ]
    },
    {
     "data": {
      "image/png": "[encoded data removed]",
      "text/plain": [
       "<Figure size 360x216 with 1 Axes>"
      ]
     },
     "metadata": {
      "filenames": {
       "image/png": "/mnt/rapport/_build/jupyter_execute/notebooks/nn_77_1.png"
      }
     },
     "output_type": "display_data"
    }
   ],
   "source": [
    "distilbert_history, distilbert_preds, distilbert_outputs = train_fold(mlf_XP='BERT', \n",
    "                                                                       xp_name_iter='DistilBERT',\n",
    "                                                                       epochs=EPOCHS,\n",
    "                                                                       model=distilbert_model,\n",
    "                                                                       device=device, \n",
    "                                                                       train_dataloader=distilbert_train_dataloader, \n",
    "                                                                       val_dataloader=distilbert_val_dataloader,\n",
    "                                                                       test_dataloader=distilbert_test_dataloader,\n",
    "                                                                       loss_fn=loss_function,\n",
    "                                                                       optimizer=distilbert_optimizer,\n",
    "                                                                       scheduler=distilbert_scheduler,\n",
    "                                                                       model_save_name='distilbest_best_model.bin',\n",
    "                                                                       n_train=len(df_train),\n",
    "                                                                       n_val=len(df_val),\n",
    "                                                                       single_model=True\n",
    "                                                                      )"
   ]
  },
  {
   "cell_type": "markdown",
   "id": "searching-operations",
   "metadata": {},
   "source": [
    ":::{note}\n",
    "DistilBERT tient toutes ses promesses, il présente un f1 macro de **78,7%** pour un temps 2 fois moindre\n",
    ":::"
   ]
  },
  {
   "cell_type": "code",
   "execution_count": 48,
   "id": "plastic-outline",
   "metadata": {
    "tags": [
     "remove-cell"
    ]
   },
   "outputs": [
    {
     "data": {
      "text/html": [
       "<div>\n",
       "<style scoped>\n",
       "    .dataframe tbody tr th:only-of-type {\n",
       "        vertical-align: middle;\n",
       "    }\n",
       "\n",
       "    .dataframe tbody tr th {\n",
       "        vertical-align: top;\n",
       "    }\n",
       "\n",
       "    .dataframe thead th {\n",
       "        text-align: right;\n",
       "    }\n",
       "</style>\n",
       "<table border=\"1\" class=\"dataframe\">\n",
       "  <thead>\n",
       "    <tr style=\"text-align: right;\">\n",
       "      <th></th>\n",
       "      <th>modèle</th>\n",
       "      <th>f1_macro_test</th>\n",
       "    </tr>\n",
       "  </thead>\n",
       "  <tbody>\n",
       "    <tr>\n",
       "      <th>0</th>\n",
       "      <td>DistilBERT</td>\n",
       "      <td>0.787</td>\n",
       "    </tr>\n",
       "  </tbody>\n",
       "</table>\n",
       "</div>"
      ],
      "text/plain": [
       "       modèle  f1_macro_test\n",
       "0  DistilBERT          0.787"
      ]
     },
     "execution_count": 48,
     "metadata": {},
     "output_type": "execute_result"
    }
   ],
   "source": [
    "item = pd.DataFrame([['DistilBERT', 0.787]], columns=['modèle', 'f1_macro_test'])\n",
    "\n",
    "item"
   ]
  },
  {
   "cell_type": "code",
   "execution_count": 49,
   "id": "joined-catalog",
   "metadata": {
    "tags": [
     "remove-cell"
    ]
   },
   "outputs": [],
   "source": [
    "res_fin=res_fin.append(item).sort_values(by='f1_macro_test',ascending=False)"
   ]
  },
  {
   "cell_type": "code",
   "execution_count": 50,
   "id": "major-royal",
   "metadata": {
    "tags": [
     "remove-input"
    ]
   },
   "outputs": [
    {
     "data": {
      "text/html": [
       "<div>\n",
       "<style scoped>\n",
       "    .dataframe tbody tr th:only-of-type {\n",
       "        vertical-align: middle;\n",
       "    }\n",
       "\n",
       "    .dataframe tbody tr th {\n",
       "        vertical-align: top;\n",
       "    }\n",
       "\n",
       "    .dataframe thead th {\n",
       "        text-align: right;\n",
       "    }\n",
       "</style>\n",
       "<table border=\"1\" class=\"dataframe\">\n",
       "  <thead>\n",
       "    <tr style=\"text-align: right;\">\n",
       "      <th></th>\n",
       "      <th>modèle</th>\n",
       "      <th>f1_macro_val</th>\n",
       "      <th>f1_macro_test</th>\n",
       "    </tr>\n",
       "  </thead>\n",
       "  <tbody>\n",
       "    <tr>\n",
       "      <th>0</th>\n",
       "      <td>DistilBERT</td>\n",
       "      <td>NaN</td>\n",
       "      <td>0.787000</td>\n",
       "    </tr>\n",
       "    <tr>\n",
       "      <th>0</th>\n",
       "      <td>BERT</td>\n",
       "      <td>NaN</td>\n",
       "      <td>0.777000</td>\n",
       "    </tr>\n",
       "    <tr>\n",
       "      <th>0</th>\n",
       "      <td>roBERTa_xgb_opti_</td>\n",
       "      <td>0.759147</td>\n",
       "      <td>0.759953</td>\n",
       "    </tr>\n",
       "    <tr>\n",
       "      <th>1</th>\n",
       "      <td>roBERTa_Blob_Vader_RF_opti_</td>\n",
       "      <td>0.756699</td>\n",
       "      <td>0.750216</td>\n",
       "    </tr>\n",
       "    <tr>\n",
       "      <th>2</th>\n",
       "      <td>roBERTa_RF_opti_</td>\n",
       "      <td>0.746630</td>\n",
       "      <td>NaN</td>\n",
       "    </tr>\n",
       "    <tr>\n",
       "      <th>3</th>\n",
       "      <td>TfIdf_LR_opti_modif_seuil</td>\n",
       "      <td>0.709477</td>\n",
       "      <td>NaN</td>\n",
       "    </tr>\n",
       "    <tr>\n",
       "      <th>4</th>\n",
       "      <td>base_TfIdf_RF_prepro_</td>\n",
       "      <td>0.707919</td>\n",
       "      <td>NaN</td>\n",
       "    </tr>\n",
       "    <tr>\n",
       "      <th>5</th>\n",
       "      <td>base_TfIdf_RF_prepro_opti_</td>\n",
       "      <td>0.706432</td>\n",
       "      <td>NaN</td>\n",
       "    </tr>\n",
       "    <tr>\n",
       "      <th>6</th>\n",
       "      <td>roBERTa_RF_</td>\n",
       "      <td>0.705912</td>\n",
       "      <td>NaN</td>\n",
       "    </tr>\n",
       "    <tr>\n",
       "      <th>7</th>\n",
       "      <td>TfIdf_LR_opti_</td>\n",
       "      <td>0.699877</td>\n",
       "      <td>NaN</td>\n",
       "    </tr>\n",
       "    <tr>\n",
       "      <th>8</th>\n",
       "      <td>TfIdf_LR_prepro_opti_</td>\n",
       "      <td>0.698565</td>\n",
       "      <td>NaN</td>\n",
       "    </tr>\n",
       "    <tr>\n",
       "      <th>9</th>\n",
       "      <td>base_TfIdf_RF_</td>\n",
       "      <td>0.669789</td>\n",
       "      <td>NaN</td>\n",
       "    </tr>\n",
       "  </tbody>\n",
       "</table>\n",
       "</div>"
      ],
      "text/plain": [
       "                        modèle  f1_macro_val  f1_macro_test\n",
       "0                   DistilBERT           NaN       0.787000\n",
       "0                         BERT           NaN       0.777000\n",
       "0            roBERTa_xgb_opti_      0.759147       0.759953\n",
       "1  roBERTa_Blob_Vader_RF_opti_      0.756699       0.750216\n",
       "2             roBERTa_RF_opti_      0.746630            NaN\n",
       "3    TfIdf_LR_opti_modif_seuil      0.709477            NaN\n",
       "4        base_TfIdf_RF_prepro_      0.707919            NaN\n",
       "5   base_TfIdf_RF_prepro_opti_      0.706432            NaN\n",
       "6                  roBERTa_RF_      0.705912            NaN\n",
       "7               TfIdf_LR_opti_      0.699877            NaN\n",
       "8        TfIdf_LR_prepro_opti_      0.698565            NaN\n",
       "9               base_TfIdf_RF_      0.669789            NaN"
      ]
     },
     "execution_count": 50,
     "metadata": {},
     "output_type": "execute_result"
    }
   ],
   "source": [
    "res_fin"
   ]
  },
  {
   "cell_type": "markdown",
   "id": "collective-brisbane",
   "metadata": {},
   "source": [
    "#### 10-Fold CV"
   ]
  },
  {
   "cell_type": "markdown",
   "id": "found-prize",
   "metadata": {},
   "source": [
    "Le temps d'ajustement étant relativement court, on peut se permettre de faire un modèle ensembliste à partir d'un ajustement 10-fold"
   ]
  },
  {
   "cell_type": "code",
   "execution_count": 74,
   "id": "external-springfield",
   "metadata": {},
   "outputs": [
    {
     "name": "stdout",
     "output_type": "stream",
     "text": [
      "Fold: 1\n",
      "Epoch  1 / 5\n",
      "--------------------------------------------------\n",
      "Train Loss:  0.941926259658315  |  Train Accuracy:  0.522400129387029\n",
      "Val Loss:  0.6203636002055434  |  Val Accuracy:  0.7558224163027657\n",
      "Epoch Train Time:  0:02:25\n",
      "\n",
      "\n",
      "Epoch  2 / 5\n",
      "--------------------------------------------------\n",
      "Train Loss:  0.580964529094073  |  Train Accuracy:  0.7636665049328805\n",
      "Val Loss:  0.5477447283649167  |  Val Accuracy:  0.7776564774381368\n",
      "Epoch Train Time:  0:02:18\n",
      "\n",
      "\n",
      "Epoch  3 / 5\n",
      "--------------------------------------------------\n",
      "Train Loss:  0.5048014043286964  |  Train Accuracy:  0.7982371017305515\n",
      "Val Loss:  0.545227823259179  |  Val Accuracy:  0.7900291120815138\n",
      "Epoch Train Time:  0:02:16\n",
      "\n",
      "\n",
      "Epoch  4 / 5\n",
      "--------------------------------------------------\n",
      "Train Loss:  0.44333723517084184  |  Train Accuracy:  0.8298964903768398\n",
      "Val Loss:  0.5853824304893266  |  Val Accuracy:  0.7863901018922853\n",
      "Epoch Train Time:  0:02:15\n",
      "\n",
      "\n",
      "Epoch  5 / 5\n",
      "--------------------------------------------------\n",
      "Train Loss:  0.3777913040834519  |  Train Accuracy:  0.8617176128093159\n",
      "Val Loss:  0.6538275292273178  |  Val Accuracy:  0.784570596797671\n",
      "Epoch Train Time:  0:02:15\n",
      "\n",
      "\n",
      "Finished Training.\n",
      "Fold Train Time:  0:11:30\n",
      "\n",
      "\n",
      "Fold: 2\n",
      "Epoch  1 / 5\n",
      "--------------------------------------------------\n",
      "Train Loss:  0.9205003487377549  |  Train Accuracy:  0.5397865114022319\n",
      "Val Loss:  0.6180462270628574  |  Val Accuracy:  0.7456331877729258\n",
      "Epoch Train Time:  0:02:17\n",
      "\n",
      "\n",
      "Epoch  2 / 5\n",
      "--------------------------------------------------\n",
      "Train Loss:  0.579977193917178  |  Train Accuracy:  0.7666181465308103\n",
      "Val Loss:  0.5480122222716726  |  Val Accuracy:  0.7762008733624454\n",
      "Epoch Train Time:  0:02:17\n",
      "\n",
      "\n",
      "Epoch  3 / 5\n",
      "--------------------------------------------------\n",
      "Train Loss:  0.5064557375046599  |  Train Accuracy:  0.7976306000323468\n",
      "Val Loss:  0.5441750175384588  |  Val Accuracy:  0.7878457059679768\n",
      "Epoch Train Time:  0:02:16\n",
      "\n",
      "\n",
      "Epoch  4 / 5\n",
      "--------------------------------------------------\n",
      "Train Loss:  0.44550948646425587  |  Train Accuracy:  0.8284813197476953\n",
      "Val Loss:  0.5777701539702194  |  Val Accuracy:  0.7918486171761281\n",
      "Epoch Train Time:  0:02:17\n",
      "\n",
      "\n",
      "Epoch  5 / 5\n",
      "--------------------------------------------------\n",
      "Train Loss:  0.3740355369091554  |  Train Accuracy:  0.8634562510108361\n",
      "Val Loss:  0.6463065561188688  |  Val Accuracy:  0.787117903930131\n",
      "Epoch Train Time:  0:02:15\n",
      "\n",
      "\n",
      "Finished Training.\n",
      "Fold Train Time:  0:11:22\n",
      "\n",
      "\n",
      "Fold: 3\n",
      "Epoch  1 / 5\n",
      "--------------------------------------------------\n",
      "Train Loss:  0.9184577913827143  |  Train Accuracy:  0.5359453339802684\n",
      "Val Loss:  0.6066395441113517  |  Val Accuracy:  0.7554585152838428\n",
      "Epoch Train Time:  0:02:17\n",
      "\n",
      "\n",
      "Epoch  2 / 5\n",
      "--------------------------------------------------\n",
      "Train Loss:  0.5813285425054765  |  Train Accuracy:  0.7635047711466926\n",
      "Val Loss:  0.5406240603431712  |  Val Accuracy:  0.7852983988355168\n",
      "Epoch Train Time:  0:02:17\n",
      "\n",
      "\n",
      "Epoch  3 / 5\n",
      "--------------------------------------------------\n",
      "Train Loss:  0.5067589409977082  |  Train Accuracy:  0.7990862041080382\n",
      "Val Loss:  0.5343165016451548  |  Val Accuracy:  0.7914847161572053\n",
      "Epoch Train Time:  0:02:17\n",
      "\n",
      "\n",
      "Epoch  4 / 5\n",
      "--------------------------------------------------\n",
      "Train Loss:  0.4455857805083632  |  Train Accuracy:  0.8299773572699337\n",
      "Val Loss:  0.5721239838315997  |  Val Accuracy:  0.7918486171761281\n",
      "Epoch Train Time:  0:02:16\n",
      "\n",
      "\n",
      "Epoch  5 / 5\n",
      "--------------------------------------------------\n",
      "Train Loss:  0.3778618352793707  |  Train Accuracy:  0.8634562510108361\n",
      "Val Loss:  0.6522320938015054  |  Val Accuracy:  0.7885735080058224\n",
      "Epoch Train Time:  0:02:16\n",
      "\n",
      "\n",
      "Finished Training.\n",
      "Fold Train Time:  0:11:22\n",
      "\n",
      "\n",
      "Fold: 4\n",
      "Epoch  1 / 5\n",
      "--------------------------------------------------\n",
      "Train Loss:  0.9359287480988755  |  Train Accuracy:  0.5133834708070516\n",
      "Val Loss:  0.6244141412682311  |  Val Accuracy:  0.745269286754003\n",
      "Epoch Train Time:  0:02:16\n",
      "\n",
      "\n",
      "Epoch  2 / 5\n",
      "--------------------------------------------------\n",
      "Train Loss:  0.5799717282416132  |  Train Accuracy:  0.7639091056121624\n",
      "Val Loss:  0.5602689084358686  |  Val Accuracy:  0.774745269286754\n",
      "Epoch Train Time:  0:02:16\n",
      "\n",
      "\n",
      "Epoch  3 / 5\n",
      "--------------------------------------------------\n",
      "Train Loss:  0.505196814004809  |  Train Accuracy:  0.7991670710011322\n",
      "Val Loss:  0.5649052176971076  |  Val Accuracy:  0.7791120815138283\n",
      "Epoch Train Time:  0:02:17\n",
      "\n",
      "\n",
      "Epoch  4 / 5\n",
      "--------------------------------------------------\n",
      "Train Loss:  0.4425473887989006  |  Train Accuracy:  0.8301795245026686\n",
      "Val Loss:  0.6196258552805629  |  Val Accuracy:  0.7834788937409025\n",
      "Epoch Train Time:  0:02:17\n",
      "\n",
      "\n",
      "Epoch  5 / 5\n",
      "--------------------------------------------------\n",
      "Train Loss:  0.37172359224399226  |  Train Accuracy:  0.864022319262494\n",
      "Val Loss:  0.7073620971465526  |  Val Accuracy:  0.774745269286754\n",
      "Epoch Train Time:  0:02:15\n",
      "\n",
      "\n",
      "Finished Training.\n",
      "Fold Train Time:  0:11:22\n",
      "\n",
      "\n",
      "Fold: 5\n",
      "Epoch  1 / 5\n",
      "--------------------------------------------------\n",
      "Train Loss:  0.9415115041689608  |  Train Accuracy:  0.5170629144428271\n",
      "Val Loss:  0.6350645698433699  |  Val Accuracy:  0.7434497816593887\n",
      "Epoch Train Time:  0:02:17\n",
      "\n",
      "\n",
      "Epoch  2 / 5\n",
      "--------------------------------------------------\n",
      "Train Loss:  0.5827579239014666  |  Train Accuracy:  0.7607957302280446\n",
      "Val Loss:  0.5471963639869246  |  Val Accuracy:  0.7867540029112081\n",
      "Epoch Train Time:  0:02:17\n",
      "\n",
      "\n",
      "Epoch  3 / 5\n",
      "--------------------------------------------------\n",
      "Train Loss:  0.5057246983581419  |  Train Accuracy:  0.7993692382338671\n",
      "Val Loss:  0.5351174239848935  |  Val Accuracy:  0.7998544395924309\n",
      "Epoch Train Time:  0:02:17\n",
      "\n",
      "\n",
      "Epoch  4 / 5\n",
      "--------------------------------------------------\n",
      "Train Loss:  0.4470801455044654  |  Train Accuracy:  0.8266213812065341\n",
      "Val Loss:  0.5497014267413423  |  Val Accuracy:  0.7991266375545851\n",
      "Epoch Train Time:  0:02:15\n",
      "\n",
      "\n",
      "Epoch  5 / 5\n",
      "--------------------------------------------------\n",
      "Train Loss:  0.37871522154962645  |  Train Accuracy:  0.86139414523694\n",
      "Val Loss:  0.6404869829759349  |  Val Accuracy:  0.7962154294032023\n",
      "Epoch Train Time:  0:02:16\n",
      "\n",
      "\n",
      "Finished Training.\n",
      "Fold Train Time:  0:11:21\n",
      "\n",
      "\n",
      "Fold: 6\n",
      "Epoch  1 / 5\n",
      "--------------------------------------------------\n",
      "Train Loss:  0.9295003596129423  |  Train Accuracy:  0.5452045932395277\n",
      "Val Loss:  0.6083728503002677  |  Val Accuracy:  0.75509461426492\n",
      "Epoch Train Time:  0:02:16\n",
      "\n",
      "\n",
      "Epoch  2 / 5\n",
      "--------------------------------------------------\n",
      "Train Loss:  0.5811521254605186  |  Train Accuracy:  0.7621300339640951\n",
      "Val Loss:  0.5365904703909574  |  Val Accuracy:  0.784570596797671\n",
      "Epoch Train Time:  0:02:16\n",
      "\n",
      "\n",
      "Epoch  3 / 5\n",
      "--------------------------------------------------\n",
      "Train Loss:  0.5050301146952563  |  Train Accuracy:  0.7982775351770985\n",
      "Val Loss:  0.5421336143342561  |  Val Accuracy:  0.7867540029112081\n",
      "Epoch Train Time:  0:02:17\n",
      "\n",
      "\n",
      "Epoch  4 / 5\n",
      "--------------------------------------------------\n",
      "Train Loss:  0.4430553875285241  |  Train Accuracy:  0.8300582241630277\n",
      "Val Loss:  0.5596038565732712  |  Val Accuracy:  0.7958515283842795\n",
      "Epoch Train Time:  0:02:16\n",
      "\n",
      "\n",
      "Epoch  5 / 5\n",
      "--------------------------------------------------\n",
      "Train Loss:  0.3792365301860663  |  Train Accuracy:  0.8621623807213327\n",
      "Val Loss:  0.634867753075479  |  Val Accuracy:  0.7893013100436681\n",
      "Epoch Train Time:  0:02:16\n",
      "\n",
      "\n",
      "Finished Training.\n",
      "Fold Train Time:  0:11:22\n",
      "\n",
      "\n",
      "Fold: 7\n",
      "Epoch  1 / 5\n",
      "--------------------------------------------------\n",
      "Train Loss:  0.9052738494313242  |  Train Accuracy:  0.5478732007116287\n",
      "Val Loss:  0.6165331214839636  |  Val Accuracy:  0.7536390101892285\n",
      "Epoch Train Time:  0:02:17\n",
      "\n",
      "\n",
      "Epoch  2 / 5\n",
      "--------------------------------------------------\n",
      "Train Loss:  0.5792397190401039  |  Train Accuracy:  0.7655264434740418\n",
      "Val Loss:  0.5519887229730917  |  Val Accuracy:  0.7812954876273653\n",
      "Epoch Train Time:  0:02:16\n",
      "\n",
      "\n",
      "Epoch  3 / 5\n",
      "--------------------------------------------------\n",
      "Train Loss:  0.503106549497872  |  Train Accuracy:  0.7999757399320718\n",
      "Val Loss:  0.5589800931859848  |  Val Accuracy:  0.7842066957787481\n",
      "Epoch Train Time:  0:02:16\n",
      "\n",
      "\n",
      "Epoch  4 / 5\n",
      "--------------------------------------------------\n",
      "Train Loss:  0.4417677537561003  |  Train Accuracy:  0.8299773572699337\n",
      "Val Loss:  0.5645578062205121  |  Val Accuracy:  0.7947598253275109\n",
      "Epoch Train Time:  0:02:17\n",
      "\n",
      "\n",
      "Epoch  5 / 5\n",
      "--------------------------------------------------\n",
      "Train Loss:  0.3713598938401003  |  Train Accuracy:  0.8643457868348698\n",
      "Val Loss:  0.6417522168783254  |  Val Accuracy:  0.7903930131004366\n",
      "Epoch Train Time:  0:02:15\n",
      "\n",
      "\n",
      "Finished Training.\n",
      "Fold Train Time:  0:11:21\n",
      "\n",
      "\n",
      "Fold: 8\n",
      "Epoch  1 / 5\n",
      "--------------------------------------------------\n",
      "Train Loss:  0.9064137189423745  |  Train Accuracy:  0.56420831311661\n",
      "Val Loss:  0.60685450930235  |  Val Accuracy:  0.75254730713246\n",
      "Epoch Train Time:  0:02:17\n",
      "\n",
      "\n",
      "Epoch  2 / 5\n",
      "--------------------------------------------------\n",
      "Train Loss:  0.5819097766255114  |  Train Accuracy:  0.7641517062914442\n",
      "Val Loss:  0.531711004327896  |  Val Accuracy:  0.7812954876273653\n",
      "Epoch Train Time:  0:02:17\n",
      "\n",
      "\n",
      "Epoch  3 / 5\n",
      "--------------------------------------------------\n",
      "Train Loss:  0.5045987542087326  |  Train Accuracy:  0.7986818696425684\n",
      "Val Loss:  0.5272369070281816  |  Val Accuracy:  0.7918486171761281\n",
      "Epoch Train Time:  0:02:17\n",
      "\n",
      "\n",
      "Epoch  4 / 5\n",
      "--------------------------------------------------\n",
      "Train Loss:  0.44432073352041557  |  Train Accuracy:  0.8300986576095747\n",
      "Val Loss:  0.5473811943084002  |  Val Accuracy:  0.7940320232896652\n",
      "Epoch Train Time:  0:02:16\n",
      "\n",
      "\n",
      "Epoch  5 / 5\n",
      "--------------------------------------------------\n",
      "Train Loss:  0.3745883988724952  |  Train Accuracy:  0.8643457868348698\n",
      "Val Loss:  0.6393082001094901  |  Val Accuracy:  0.7831149927219796\n",
      "Epoch Train Time:  0:02:16\n",
      "\n",
      "\n",
      "Finished Training.\n",
      "Fold Train Time:  0:11:22\n",
      "\n",
      "\n",
      "Fold: 9\n",
      "Epoch  1 / 5\n",
      "--------------------------------------------------\n",
      "Train Loss:  0.9189361214522094  |  Train Accuracy:  0.5487223030891153\n",
      "Val Loss:  0.6407536754254685  |  Val Accuracy:  0.7245269286754003\n",
      "Epoch Train Time:  0:02:17\n",
      "\n",
      "\n",
      "Epoch  2 / 5\n",
      "--------------------------------------------------\n",
      "Train Loss:  0.5772791211655963  |  Train Accuracy:  0.7660520782791526\n",
      "Val Loss:  0.582675036476102  |  Val Accuracy:  0.7612809315866085\n",
      "Epoch Train Time:  0:02:16\n",
      "\n",
      "\n",
      "Epoch  3 / 5\n",
      "--------------------------------------------------\n",
      "Train Loss:  0.5016376986608083  |  Train Accuracy:  0.8010674429888404\n",
      "Val Loss:  0.6005498271782038  |  Val Accuracy:  0.7711062590975255\n",
      "Epoch Train Time:  0:02:16\n",
      "\n",
      "\n",
      "Epoch  4 / 5\n",
      "--------------------------------------------------\n",
      "Train Loss:  0.43999696849697156  |  Train Accuracy:  0.8320394630438298\n",
      "Val Loss:  0.6376301472963288  |  Val Accuracy:  0.7641921397379913\n",
      "Epoch Train Time:  0:02:16\n",
      "\n",
      "\n",
      "Epoch  5 / 5\n",
      "--------------------------------------------------\n",
      "Train Loss:  0.3717861590728665  |  Train Accuracy:  0.8649522885330746\n",
      "Val Loss:  0.7558341780894025  |  Val Accuracy:  0.7634643377001455\n",
      "Epoch Train Time:  0:02:15\n",
      "\n",
      "\n",
      "Finished Training.\n",
      "Fold Train Time:  0:11:20\n",
      "\n",
      "\n",
      "Fold: 10\n",
      "Epoch  1 / 5\n",
      "--------------------------------------------------\n",
      "Train Loss:  0.9245070222124245  |  Train Accuracy:  0.5524826136179848\n",
      "Val Loss:  0.6224677699596383  |  Val Accuracy:  0.74745269286754\n",
      "Epoch Train Time:  0:02:17\n",
      "\n",
      "\n",
      "Epoch  2 / 5\n",
      "--------------------------------------------------\n",
      "Train Loss:  0.5746363384160003  |  Train Accuracy:  0.7660520782791526\n",
      "Val Loss:  0.545842379764762  |  Val Accuracy:  0.777292576419214\n",
      "Epoch Train Time:  0:02:16\n",
      "\n",
      "\n",
      "Epoch  3 / 5\n",
      "--------------------------------------------------\n",
      "Train Loss:  0.5028234107364427  |  Train Accuracy:  0.8005013747371826\n",
      "Val Loss:  0.5520749990503455  |  Val Accuracy:  0.784570596797671\n",
      "Epoch Train Time:  0:02:17\n",
      "\n",
      "\n",
      "Epoch  4 / 5\n",
      "--------------------------------------------------\n",
      "Train Loss:  0.44011698519861636  |  Train Accuracy:  0.8330502992075044\n",
      "Val Loss:  0.5861991313394419  |  Val Accuracy:  0.7885735080058224\n",
      "Epoch Train Time:  0:02:16\n",
      "\n",
      "\n",
      "Epoch  5 / 5\n",
      "--------------------------------------------------\n",
      "Train Loss:  0.3778763751934293  |  Train Accuracy:  0.8624454148471615\n",
      "Val Loss:  0.6675134595093686  |  Val Accuracy:  0.7816593886462883\n",
      "Epoch Train Time:  0:02:16\n",
      "\n",
      "\n",
      "Finished Training.\n",
      "Fold Train Time:  0:11:22\n",
      "\n",
      "\n",
      "10 Fold CV Train Time:  1:54:57\n"
     ]
    }
   ],
   "source": [
    "distilbert_history, distilbert_test_outputs = get_oof_and_test_preds(mlf_XP='DistilBERT_10Fold',\n",
    "                                                                     model_type='distilbert', \n",
    "                                                                     tokenizer=distilbert_tokenizer, \n",
    "                                                                     train_df=df_train_full, \n",
    "                                                                     test_df=df_test,\n",
    "                                                                     single_model=False)"
   ]
  },
  {
   "cell_type": "code",
   "execution_count": 75,
   "id": "imported-district",
   "metadata": {},
   "outputs": [
    {
     "name": "stdout",
     "output_type": "stream",
     "text": [
      "[[ 739  235   27]\n",
      " [ 148 1123  159]\n",
      " [  20  165  918]]\n",
      "\n",
      "              precision    recall  f1-score   support\n",
      "\n",
      "    negative      0.815     0.738     0.775      1001\n",
      "     neutral      0.737     0.785     0.761      1430\n",
      "    positive      0.832     0.832     0.832      1103\n",
      "\n",
      "    accuracy                          0.787      3534\n",
      "   macro avg      0.795     0.785     0.789      3534\n",
      "weighted avg      0.789     0.787     0.787      3534\n",
      "\n"
     ]
    }
   ],
   "source": [
    "cv_ensemble_performance(distilbert_test_outputs, df_test['sentiment'].values)"
   ]
  },
  {
   "cell_type": "markdown",
   "id": "continental-bosnia",
   "metadata": {},
   "source": [
    ":::{warning}\n",
    "DistilBERT 10 fold présente un f1 macro à peine amélioré **78,9%** pour un temps **11,5** fois plus important !\n",
    ":::"
   ]
  },
  {
   "cell_type": "code",
   "execution_count": 51,
   "id": "accessory-wiring",
   "metadata": {
    "tags": [
     "remove-cell"
    ]
   },
   "outputs": [
    {
     "data": {
      "text/html": [
       "<div>\n",
       "<style scoped>\n",
       "    .dataframe tbody tr th:only-of-type {\n",
       "        vertical-align: middle;\n",
       "    }\n",
       "\n",
       "    .dataframe tbody tr th {\n",
       "        vertical-align: top;\n",
       "    }\n",
       "\n",
       "    .dataframe thead th {\n",
       "        text-align: right;\n",
       "    }\n",
       "</style>\n",
       "<table border=\"1\" class=\"dataframe\">\n",
       "  <thead>\n",
       "    <tr style=\"text-align: right;\">\n",
       "      <th></th>\n",
       "      <th>modèle</th>\n",
       "      <th>f1_macro_test</th>\n",
       "    </tr>\n",
       "  </thead>\n",
       "  <tbody>\n",
       "    <tr>\n",
       "      <th>0</th>\n",
       "      <td>DistilBERT_10-fold</td>\n",
       "      <td>0.789</td>\n",
       "    </tr>\n",
       "  </tbody>\n",
       "</table>\n",
       "</div>"
      ],
      "text/plain": [
       "               modèle  f1_macro_test\n",
       "0  DistilBERT_10-fold          0.789"
      ]
     },
     "execution_count": 51,
     "metadata": {},
     "output_type": "execute_result"
    }
   ],
   "source": [
    "item = pd.DataFrame([['DistilBERT_10-fold', 0.789]], columns=['modèle', 'f1_macro_test'])\n",
    "\n",
    "item"
   ]
  },
  {
   "cell_type": "code",
   "execution_count": 52,
   "id": "republican-rebecca",
   "metadata": {
    "tags": [
     "remove-cell"
    ]
   },
   "outputs": [],
   "source": [
    "res_fin=res_fin.append(item).sort_values(by='f1_macro_test',ascending=False)"
   ]
  },
  {
   "cell_type": "code",
   "execution_count": 53,
   "id": "subjective-breakdown",
   "metadata": {
    "tags": [
     "remove-input"
    ]
   },
   "outputs": [
    {
     "data": {
      "text/html": [
       "<div>\n",
       "<style scoped>\n",
       "    .dataframe tbody tr th:only-of-type {\n",
       "        vertical-align: middle;\n",
       "    }\n",
       "\n",
       "    .dataframe tbody tr th {\n",
       "        vertical-align: top;\n",
       "    }\n",
       "\n",
       "    .dataframe thead th {\n",
       "        text-align: right;\n",
       "    }\n",
       "</style>\n",
       "<table border=\"1\" class=\"dataframe\">\n",
       "  <thead>\n",
       "    <tr style=\"text-align: right;\">\n",
       "      <th></th>\n",
       "      <th>modèle</th>\n",
       "      <th>f1_macro_val</th>\n",
       "      <th>f1_macro_test</th>\n",
       "    </tr>\n",
       "  </thead>\n",
       "  <tbody>\n",
       "    <tr>\n",
       "      <th>0</th>\n",
       "      <td>DistilBERT_10-fold</td>\n",
       "      <td>NaN</td>\n",
       "      <td>0.789000</td>\n",
       "    </tr>\n",
       "    <tr>\n",
       "      <th>0</th>\n",
       "      <td>DistilBERT</td>\n",
       "      <td>NaN</td>\n",
       "      <td>0.787000</td>\n",
       "    </tr>\n",
       "    <tr>\n",
       "      <th>0</th>\n",
       "      <td>BERT</td>\n",
       "      <td>NaN</td>\n",
       "      <td>0.777000</td>\n",
       "    </tr>\n",
       "    <tr>\n",
       "      <th>0</th>\n",
       "      <td>roBERTa_xgb_opti_</td>\n",
       "      <td>0.759147</td>\n",
       "      <td>0.759953</td>\n",
       "    </tr>\n",
       "    <tr>\n",
       "      <th>1</th>\n",
       "      <td>roBERTa_Blob_Vader_RF_opti_</td>\n",
       "      <td>0.756699</td>\n",
       "      <td>0.750216</td>\n",
       "    </tr>\n",
       "    <tr>\n",
       "      <th>2</th>\n",
       "      <td>roBERTa_RF_opti_</td>\n",
       "      <td>0.746630</td>\n",
       "      <td>NaN</td>\n",
       "    </tr>\n",
       "    <tr>\n",
       "      <th>3</th>\n",
       "      <td>TfIdf_LR_opti_modif_seuil</td>\n",
       "      <td>0.709477</td>\n",
       "      <td>NaN</td>\n",
       "    </tr>\n",
       "    <tr>\n",
       "      <th>4</th>\n",
       "      <td>base_TfIdf_RF_prepro_</td>\n",
       "      <td>0.707919</td>\n",
       "      <td>NaN</td>\n",
       "    </tr>\n",
       "    <tr>\n",
       "      <th>5</th>\n",
       "      <td>base_TfIdf_RF_prepro_opti_</td>\n",
       "      <td>0.706432</td>\n",
       "      <td>NaN</td>\n",
       "    </tr>\n",
       "    <tr>\n",
       "      <th>6</th>\n",
       "      <td>roBERTa_RF_</td>\n",
       "      <td>0.705912</td>\n",
       "      <td>NaN</td>\n",
       "    </tr>\n",
       "    <tr>\n",
       "      <th>7</th>\n",
       "      <td>TfIdf_LR_opti_</td>\n",
       "      <td>0.699877</td>\n",
       "      <td>NaN</td>\n",
       "    </tr>\n",
       "    <tr>\n",
       "      <th>8</th>\n",
       "      <td>TfIdf_LR_prepro_opti_</td>\n",
       "      <td>0.698565</td>\n",
       "      <td>NaN</td>\n",
       "    </tr>\n",
       "    <tr>\n",
       "      <th>9</th>\n",
       "      <td>base_TfIdf_RF_</td>\n",
       "      <td>0.669789</td>\n",
       "      <td>NaN</td>\n",
       "    </tr>\n",
       "  </tbody>\n",
       "</table>\n",
       "</div>"
      ],
      "text/plain": [
       "                        modèle  f1_macro_val  f1_macro_test\n",
       "0           DistilBERT_10-fold           NaN       0.789000\n",
       "0                   DistilBERT           NaN       0.787000\n",
       "0                         BERT           NaN       0.777000\n",
       "0            roBERTa_xgb_opti_      0.759147       0.759953\n",
       "1  roBERTa_Blob_Vader_RF_opti_      0.756699       0.750216\n",
       "2             roBERTa_RF_opti_      0.746630            NaN\n",
       "3    TfIdf_LR_opti_modif_seuil      0.709477            NaN\n",
       "4        base_TfIdf_RF_prepro_      0.707919            NaN\n",
       "5   base_TfIdf_RF_prepro_opti_      0.706432            NaN\n",
       "6                  roBERTa_RF_      0.705912            NaN\n",
       "7               TfIdf_LR_opti_      0.699877            NaN\n",
       "8        TfIdf_LR_prepro_opti_      0.698565            NaN\n",
       "9               base_TfIdf_RF_      0.669789            NaN"
      ]
     },
     "execution_count": 53,
     "metadata": {},
     "output_type": "execute_result"
    }
   ],
   "source": [
    "res_fin"
   ]
  },
  {
   "cell_type": "markdown",
   "id": "framed-omega",
   "metadata": {},
   "source": [
    "### RoBERTa"
   ]
  },
  {
   "cell_type": "markdown",
   "id": "strategic-partition",
   "metadata": {},
   "source": [
    "Le dernier modèle testé est RoBERTa"
   ]
  },
  {
   "cell_type": "markdown",
   "id": "thorough-garlic",
   "metadata": {},
   "source": [
    "#### Single Model"
   ]
  },
  {
   "cell_type": "code",
   "execution_count": 93,
   "id": "provincial-cutting",
   "metadata": {},
   "outputs": [],
   "source": [
    "del bert_model\n",
    "gc.collect()\n",
    "torch.cuda.empty_cache()\n"
   ]
  },
  {
   "cell_type": "code",
   "execution_count": 95,
   "id": "dedicated-relations",
   "metadata": {},
   "outputs": [],
   "source": [
    "ROBERTA_MODEL_NAME = 'roberta-base'\n",
    "roberta_tokenizer = RobertaTokenizer.from_pretrained(ROBERTA_MODEL_NAME)"
   ]
  },
  {
   "cell_type": "code",
   "execution_count": 96,
   "id": "vietnamese-atlantic",
   "metadata": {},
   "outputs": [],
   "source": [
    "roberta_train_ds = create_dataset(df_train, roberta_tokenizer, MAX_LENGTH)\n",
    "roberta_test_ds = create_dataset(df_test, roberta_tokenizer, MAX_LENGTH)\n",
    "roberta_val_ds = create_dataset(df_val, roberta_tokenizer, MAX_LENGTH)\n",
    "\n",
    "roberta_train_dataloader = create_dataloader(roberta_train_ds, BATCH_SIZE)\n",
    "roberta_test_dataloader = create_dataloader(roberta_test_ds, BATCH_SIZE)\n",
    "roberta_val_dataloader = create_dataloader(roberta_val_ds, BATCH_SIZE)"
   ]
  },
  {
   "cell_type": "code",
   "execution_count": 97,
   "id": "recent-berry",
   "metadata": {},
   "outputs": [],
   "source": [
    "class RobertaSentimentClassifier(nn.Module):\n",
    "    \n",
    "    def __init__(self, n_classes):\n",
    "        super(RobertaSentimentClassifier, self).__init__()\n",
    "        self.model = RobertaModel.from_pretrained(ROBERTA_MODEL_NAME, return_dict=False) #ATTENTION : il faut rajouter return_dict=False ici cf https://huggingface.co/transformers/migration.html\n",
    "        self.drop = nn.Dropout(DROPOUT_PROB)\n",
    "        self.output = nn.Linear(self.model.config.hidden_size, n_classes)\n",
    "        \n",
    "    def forward(self, input_ids, attention_mask):\n",
    "        _, pooled_output = self.model(\n",
    "            input_ids = input_ids,\n",
    "            attention_mask=attention_mask\n",
    "        )\n",
    "        \n",
    "        output = self.drop(pooled_output)\n",
    "        \n",
    "        return self.output(output)"
   ]
  },
  {
   "cell_type": "code",
   "execution_count": 98,
   "id": "distinguished-shipping",
   "metadata": {},
   "outputs": [],
   "source": [
    "roberta_model = RobertaSentimentClassifier(n_classes=NUM_CLASSES)\n",
    "roberta_model = roberta_model.to(device)"
   ]
  },
  {
   "cell_type": "code",
   "execution_count": 99,
   "id": "brilliant-method",
   "metadata": {},
   "outputs": [],
   "source": [
    "training_steps = len(roberta_train_dataloader.dataset) * EPOCHS\n",
    "\n",
    "roberta_optimizer = AdamW(roberta_model.parameters(), lr=LEARNING_RATE, weight_decay=WEIGHT_DECAY, correct_bias=True)\n",
    "roberta_scheduler = get_linear_schedule_with_warmup(roberta_optimizer, num_warmup_steps=int(0.1 * training_steps), num_training_steps=training_steps)"
   ]
  },
  {
   "cell_type": "code",
   "execution_count": 100,
   "id": "behind-appendix",
   "metadata": {},
   "outputs": [
    {
     "name": "stdout",
     "output_type": "stream",
     "text": [
      "Epoch  1 / 5\n",
      "--------------------------------------------------\n",
      "Train Loss:  0.9043195859205081  |  Train Accuracy:  0.5254275836972343\n",
      "Val Loss:  0.5874736773846454  |  Val Accuracy:  0.7574599708879185\n",
      "Epoch Train Time:  0:09:34\n",
      "\n",
      "\n",
      "Epoch  2 / 5\n",
      "--------------------------------------------------\n",
      "Train Loss:  0.5546561090012652  |  Train Accuracy:  0.7763373362445415\n",
      "Val Loss:  0.5240757602678482  |  Val Accuracy:  0.7867540029112081\n",
      "Epoch Train Time:  0:09:30\n",
      "\n",
      "\n",
      "Epoch  3 / 5\n",
      "--------------------------------------------------\n",
      "Train Loss:  0.48944837608126573  |  Train Accuracy:  0.8069050218340611\n",
      "Val Loss:  0.5171312416232255  |  Val Accuracy:  0.787117903930131\n",
      "Epoch Train Time:  0:09:31\n",
      "\n",
      "\n",
      "Epoch  4 / 5\n",
      "--------------------------------------------------\n",
      "Train Loss:  0.43777817099733385  |  Train Accuracy:  0.8314683406113537\n",
      "Val Loss:  0.5419738723484929  |  Val Accuracy:  0.7860262008733624\n",
      "Epoch Train Time:  0:09:28\n",
      "\n",
      "\n",
      "Epoch  5 / 5\n",
      "--------------------------------------------------\n",
      "Train Loss:  0.38452990322605624  |  Train Accuracy:  0.8561681222707423\n",
      "Val Loss:  0.6697040315565848  |  Val Accuracy:  0.7749272197962155\n",
      "Epoch Train Time:  0:09:30\n",
      "\n",
      "\n",
      "Finished Training.\n",
      "Fold Train Time:  0:47:33\n",
      "\n",
      "\n",
      "[[ 771  193   37]\n",
      " [ 159 1066  205]\n",
      " [  19  128  956]]\n",
      "\n",
      "              precision    recall  f1-score   support\n",
      "\n",
      "    negative      0.812     0.770     0.791      1001\n",
      "     neutral      0.769     0.745     0.757      1430\n",
      "    positive      0.798     0.867     0.831      1103\n",
      "\n",
      "    accuracy                          0.790      3534\n",
      "   macro avg      0.793     0.794     0.793      3534\n",
      "weighted avg      0.790     0.790     0.790      3534\n",
      "\n"
     ]
    },
    {
     "data": {
      "image/png": "[encoded data removed]",
      "text/plain": [
       "<Figure size 360x216 with 1 Axes>"
      ]
     },
     "metadata": {
      "filenames": {
       "image/png": "/mnt/rapport/_build/jupyter_execute/notebooks/nn_99_1.png"
      }
     },
     "output_type": "display_data"
    }
   ],
   "source": [
    "roberta_single_model_items = train_fold(  \n",
    "                                          mlf_XP='RoBERTa', \n",
    "                                          xp_name_iter='RoBERTa',\n",
    "                                          epochs=EPOCHS,\n",
    "                                          model=roberta_model,\n",
    "                                          device=device, \n",
    "                                          train_dataloader=roberta_train_dataloader, \n",
    "                                          val_dataloader=roberta_val_dataloader,\n",
    "                                          test_dataloader=roberta_test_dataloader,\n",
    "                                          loss_fn=loss_function,\n",
    "                                          optimizer=roberta_optimizer,\n",
    "                                          scheduler=roberta_scheduler,\n",
    "                                          model_save_name='roberta_best_model.bin',\n",
    "                                          n_train=len(df_train),\n",
    "                                          n_val=len(df_val),\n",
    "                                          single_model=True\n",
    "                                         )"
   ]
  },
  {
   "cell_type": "markdown",
   "id": "honey-qatar",
   "metadata": {},
   "source": [
    ":::{warning}\n",
    "RoBERTa est très lent à ajuster (47 min vs 10 min pour DistilBERT). Par contre il présente un f1 macro amélioré à **79,3%**\n",
    ":::"
   ]
  },
  {
   "cell_type": "code",
   "execution_count": 54,
   "id": "narrow-double",
   "metadata": {
    "tags": [
     "remove-cell"
    ]
   },
   "outputs": [
    {
     "data": {
      "text/html": [
       "<div>\n",
       "<style scoped>\n",
       "    .dataframe tbody tr th:only-of-type {\n",
       "        vertical-align: middle;\n",
       "    }\n",
       "\n",
       "    .dataframe tbody tr th {\n",
       "        vertical-align: top;\n",
       "    }\n",
       "\n",
       "    .dataframe thead th {\n",
       "        text-align: right;\n",
       "    }\n",
       "</style>\n",
       "<table border=\"1\" class=\"dataframe\">\n",
       "  <thead>\n",
       "    <tr style=\"text-align: right;\">\n",
       "      <th></th>\n",
       "      <th>modèle</th>\n",
       "      <th>f1_macro_test</th>\n",
       "    </tr>\n",
       "  </thead>\n",
       "  <tbody>\n",
       "    <tr>\n",
       "      <th>0</th>\n",
       "      <td>RoBERTa</td>\n",
       "      <td>0.793</td>\n",
       "    </tr>\n",
       "  </tbody>\n",
       "</table>\n",
       "</div>"
      ],
      "text/plain": [
       "    modèle  f1_macro_test\n",
       "0  RoBERTa          0.793"
      ]
     },
     "execution_count": 54,
     "metadata": {},
     "output_type": "execute_result"
    }
   ],
   "source": [
    "item = pd.DataFrame([['RoBERTa', 0.793]], columns=['modèle', 'f1_macro_test'])\n",
    "\n",
    "item"
   ]
  },
  {
   "cell_type": "code",
   "execution_count": 55,
   "id": "pharmaceutical-publicity",
   "metadata": {
    "tags": [
     "remove-cell"
    ]
   },
   "outputs": [],
   "source": [
    "res_fin=res_fin.append(item).sort_values(by='f1_macro_test',ascending=False)"
   ]
  },
  {
   "cell_type": "code",
   "execution_count": 56,
   "id": "taken-greenhouse",
   "metadata": {
    "tags": [
     "remove-input"
    ]
   },
   "outputs": [
    {
     "data": {
      "text/html": [
       "<div>\n",
       "<style scoped>\n",
       "    .dataframe tbody tr th:only-of-type {\n",
       "        vertical-align: middle;\n",
       "    }\n",
       "\n",
       "    .dataframe tbody tr th {\n",
       "        vertical-align: top;\n",
       "    }\n",
       "\n",
       "    .dataframe thead th {\n",
       "        text-align: right;\n",
       "    }\n",
       "</style>\n",
       "<table border=\"1\" class=\"dataframe\">\n",
       "  <thead>\n",
       "    <tr style=\"text-align: right;\">\n",
       "      <th></th>\n",
       "      <th>modèle</th>\n",
       "      <th>f1_macro_val</th>\n",
       "      <th>f1_macro_test</th>\n",
       "    </tr>\n",
       "  </thead>\n",
       "  <tbody>\n",
       "    <tr>\n",
       "      <th>0</th>\n",
       "      <td>RoBERTa</td>\n",
       "      <td>NaN</td>\n",
       "      <td>0.793000</td>\n",
       "    </tr>\n",
       "    <tr>\n",
       "      <th>0</th>\n",
       "      <td>DistilBERT_10-fold</td>\n",
       "      <td>NaN</td>\n",
       "      <td>0.789000</td>\n",
       "    </tr>\n",
       "    <tr>\n",
       "      <th>0</th>\n",
       "      <td>DistilBERT</td>\n",
       "      <td>NaN</td>\n",
       "      <td>0.787000</td>\n",
       "    </tr>\n",
       "    <tr>\n",
       "      <th>0</th>\n",
       "      <td>BERT</td>\n",
       "      <td>NaN</td>\n",
       "      <td>0.777000</td>\n",
       "    </tr>\n",
       "    <tr>\n",
       "      <th>0</th>\n",
       "      <td>roBERTa_xgb_opti_</td>\n",
       "      <td>0.759147</td>\n",
       "      <td>0.759953</td>\n",
       "    </tr>\n",
       "    <tr>\n",
       "      <th>1</th>\n",
       "      <td>roBERTa_Blob_Vader_RF_opti_</td>\n",
       "      <td>0.756699</td>\n",
       "      <td>0.750216</td>\n",
       "    </tr>\n",
       "    <tr>\n",
       "      <th>2</th>\n",
       "      <td>roBERTa_RF_opti_</td>\n",
       "      <td>0.746630</td>\n",
       "      <td>NaN</td>\n",
       "    </tr>\n",
       "    <tr>\n",
       "      <th>3</th>\n",
       "      <td>TfIdf_LR_opti_modif_seuil</td>\n",
       "      <td>0.709477</td>\n",
       "      <td>NaN</td>\n",
       "    </tr>\n",
       "    <tr>\n",
       "      <th>4</th>\n",
       "      <td>base_TfIdf_RF_prepro_</td>\n",
       "      <td>0.707919</td>\n",
       "      <td>NaN</td>\n",
       "    </tr>\n",
       "    <tr>\n",
       "      <th>5</th>\n",
       "      <td>base_TfIdf_RF_prepro_opti_</td>\n",
       "      <td>0.706432</td>\n",
       "      <td>NaN</td>\n",
       "    </tr>\n",
       "    <tr>\n",
       "      <th>6</th>\n",
       "      <td>roBERTa_RF_</td>\n",
       "      <td>0.705912</td>\n",
       "      <td>NaN</td>\n",
       "    </tr>\n",
       "    <tr>\n",
       "      <th>7</th>\n",
       "      <td>TfIdf_LR_opti_</td>\n",
       "      <td>0.699877</td>\n",
       "      <td>NaN</td>\n",
       "    </tr>\n",
       "    <tr>\n",
       "      <th>8</th>\n",
       "      <td>TfIdf_LR_prepro_opti_</td>\n",
       "      <td>0.698565</td>\n",
       "      <td>NaN</td>\n",
       "    </tr>\n",
       "    <tr>\n",
       "      <th>9</th>\n",
       "      <td>base_TfIdf_RF_</td>\n",
       "      <td>0.669789</td>\n",
       "      <td>NaN</td>\n",
       "    </tr>\n",
       "  </tbody>\n",
       "</table>\n",
       "</div>"
      ],
      "text/plain": [
       "                        modèle  f1_macro_val  f1_macro_test\n",
       "0                      RoBERTa           NaN       0.793000\n",
       "0           DistilBERT_10-fold           NaN       0.789000\n",
       "0                   DistilBERT           NaN       0.787000\n",
       "0                         BERT           NaN       0.777000\n",
       "0            roBERTa_xgb_opti_      0.759147       0.759953\n",
       "1  roBERTa_Blob_Vader_RF_opti_      0.756699       0.750216\n",
       "2             roBERTa_RF_opti_      0.746630            NaN\n",
       "3    TfIdf_LR_opti_modif_seuil      0.709477            NaN\n",
       "4        base_TfIdf_RF_prepro_      0.707919            NaN\n",
       "5   base_TfIdf_RF_prepro_opti_      0.706432            NaN\n",
       "6                  roBERTa_RF_      0.705912            NaN\n",
       "7               TfIdf_LR_opti_      0.699877            NaN\n",
       "8        TfIdf_LR_prepro_opti_      0.698565            NaN\n",
       "9               base_TfIdf_RF_      0.669789            NaN"
      ]
     },
     "execution_count": 56,
     "metadata": {},
     "output_type": "execute_result"
    }
   ],
   "source": [
    "res_fin"
   ]
  },
  {
   "cell_type": "code",
   "execution_count": 57,
   "id": "electronic-centre",
   "metadata": {
    "tags": [
     "remove-cell"
    ]
   },
   "outputs": [],
   "source": [
    "res_fin.to_parquet('/mnt/data/processed/res_fin3.gzip',compression='gzip')"
   ]
  },
  {
   "cell_type": "code",
   "execution_count": null,
   "id": "commercial-museum",
   "metadata": {},
   "outputs": [],
   "source": []
  }
 ],
 "metadata": {
  "kernelspec": {
   "display_name": "Python 3",
   "language": "python",
   "name": "python3"
  },
  "language_info": {
   "codemirror_mode": {
    "name": "ipython",
    "version": 3
   },
   "file_extension": ".py",
   "mimetype": "text/x-python",
   "name": "python",
   "nbconvert_exporter": "python",
   "pygments_lexer": "ipython3",
   "version": "3.8.5"
  }
 },
 "nbformat": 4,
 "nbformat_minor": 5
}