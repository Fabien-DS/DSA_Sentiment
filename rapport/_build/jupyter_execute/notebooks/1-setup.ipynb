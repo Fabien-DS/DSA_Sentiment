{
 "cells": [
  {
   "cell_type": "markdown",
   "id": "dying-generic",
   "metadata": {},
   "source": [
    "-------------------------------------------------------------------\n",
    "**TD DSA 2021 de Antoine Ly   -   rapport de Fabien Faivre**\n",
    "-------------------------     -------------------------------------"
   ]
  },
  {
   "cell_type": "markdown",
   "id": "mineral-joining",
   "metadata": {},
   "source": [
    "# Description du projet et de la stratégie a priori"
   ]
  },
  {
   "cell_type": "markdown",
   "id": "actual-wright",
   "metadata": {},
   "source": [
    "L'approche déployée consiste à analyser des tweets en langue anglaise et de prédire les sentiments qu'ils portent : `{negative: -1, neutral: 0, positive: 1}`"
   ]
  },
  {
   "cell_type": "markdown",
   "id": "utility-blank",
   "metadata": {},
   "source": [
    "## Difficultés anticipées"
   ]
  },
  {
   "cell_type": "markdown",
   "id": "graduate-butterfly",
   "metadata": {},
   "source": [
    "Dans cet exercice, la langue anglaise est un facteur facilitant dans la mesure où beaucoup de modèles préentrainés existent dans cette langue."
   ]
  },
  {
   "cell_type": "markdown",
   "id": "peripheral-aruba",
   "metadata": {},
   "source": [
    "La difficulté dans cet exercice provient de sa source : les tweets.\n",
    "Les approches classiques reposent sur :\n",
    "- le passage en minuscule, or dans les tweets, l'utilisation de mots en **majuscules** est un marqueur d'une **émotion forte**\n",
    "- l'utilisation de structures linguisitiques relativement correctes augmentées par la lemmatisation / tokenisation. \n",
    "Or, les mots utilisés dans les tweets font l'objet de nombreuses **fautes d'orthographes ou d'abbréviations** (ex `thx`)\n",
    "- les marqueurs de ponctuation sont usuellement retirés, or ici, ils peuvent être utilisés comme **smiley** `;-)` ou pour marquer une **émotion forte** `!!!`\n",
    "- l'**humour** et les **euphémismes** sont très présents sur tweeter, or les modèles ont beaucoup de mal à distinguer ces cas qui nécessitent une compréhension contextuelle."
   ]
  },
  {
   "cell_type": "markdown",
   "id": "chubby-episode",
   "metadata": {},
   "source": [
    "## Approche de travail"
   ]
  },
  {
   "cell_type": "markdown",
   "id": "healthy-communication",
   "metadata": {},
   "source": [
    "En complément au sujet du TD lui-même, celui-ci a été l'occasion de monter en compétence avec les (je l'espère) bonnes pratiques de codage et l'utilisation de techniques de **MLOps**.\n",
    "\n",
    "Le code de ce projet a été organisé en s'appuyant sur le framework open source [**orbyter**](https://github.com/manifoldai/orbyter-cookiecutter) de la société [Manifold.ai](https://www.manifold.ai/project-orbyter). Ce framework pousse à la standardisation de la structure du code, via l'utilisation de `cookiecutter` et promeut un développement dans un environnement dockerisé dès le départ : \n",
    "\n",
    "![structure](https://www.manifold.ai/hubfs/Torus.png) \n",
    "\n",
    "La logique de développement pronée est disponible [ici](https://cdn2.hubspot.net/hubfs/4584542/Conference%20Slides/2019StrataNY_EfficientMLengineering.pdf)\n",
    "\n",
    "Plusieurs modifications ont dû être apportées aux paramètres du `docker-compose` pour permettre un accès aux ressources GPU depuis le docker.\n",
    "\n",
    "Le code a été versionné et est disponible ici [github](https://github.com/Fabien-DS/DSA_Sentiment)"
   ]
  },
  {
   "cell_type": "code",
   "execution_count": null,
   "id": "facial-delivery",
   "metadata": {},
   "outputs": [],
   "source": []
  }
 ],
 "metadata": {
  "kernelspec": {
   "display_name": "Python 3",
   "language": "python",
   "name": "python3"
  },
  "language_info": {
   "codemirror_mode": {
    "name": "ipython",
    "version": 3
   },
   "file_extension": ".py",
   "mimetype": "text/x-python",
   "name": "python",
   "nbconvert_exporter": "python",
   "pygments_lexer": "ipython3",
   "version": "3.8.5"
  },
  "toc-autonumbering": false,
  "toc-showtags": true
 },
 "nbformat": 4,
 "nbformat_minor": 5
}