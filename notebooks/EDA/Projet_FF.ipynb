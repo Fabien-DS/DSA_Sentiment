{
 "cells": [
  {
   "cell_type": "markdown",
   "id": "buried-giving",
   "metadata": {},
   "source": [
    "# EDA"
   ]
  },
  {
   "cell_type": "markdown",
   "id": "intellectual-fossil",
   "metadata": {},
   "source": [
    "Inspiration : https://medium.com/deepdatascience/feature-extraction-from-text-text-data-preprocessing-594b11af19f5"
   ]
  },
  {
   "cell_type": "code",
   "execution_count": 5,
   "id": "valued-supervision",
   "metadata": {},
   "outputs": [
    {
     "name": "stdout",
     "output_type": "stream",
     "text": [
      "Requirement already satisfied: textblob in /usr/local/lib/python3.8/dist-packages (0.15.3)\n",
      "Requirement already satisfied: nltk>=3.1 in /usr/local/lib/python3.8/dist-packages (from textblob) (3.6.2)\n",
      "Requirement already satisfied: tqdm in /usr/local/lib/python3.8/dist-packages (from nltk>=3.1->textblob) (4.56.2)\n",
      "Requirement already satisfied: joblib in /usr/local/lib/python3.8/dist-packages (from nltk>=3.1->textblob) (1.0.1)\n",
      "Requirement already satisfied: regex in /usr/local/lib/python3.8/dist-packages (from nltk>=3.1->textblob) (2020.11.13)\n",
      "Requirement already satisfied: click in /usr/local/lib/python3.8/dist-packages (from nltk>=3.1->textblob) (7.1.2)\n",
      "\u001b[33mWARNING: Running pip as root will break packages and permissions. You should install packages reliably by using venv: https://pip.pypa.io/warnings/venv\u001b[0m\n"
     ]
    }
   ],
   "source": [
    "!pip install textblob"
   ]
  },
  {
   "cell_type": "code",
   "execution_count": 61,
   "id": "joint-information",
   "metadata": {},
   "outputs": [
    {
     "name": "stderr",
     "output_type": "stream",
     "text": [
      "[nltk_data] Downloading package punkt to /root/nltk_data...\n",
      "[nltk_data]   Package punkt is already up-to-date!\n",
      "[nltk_data] Downloading package stopwords to /root/nltk_data...\n",
      "[nltk_data]   Package stopwords is already up-to-date!\n",
      "[nltk_data] Downloading package vader_lexicon to /root/nltk_data...\n",
      "[nltk_data]   Package vader_lexicon is already up-to-date!\n"
     ]
    }
   ],
   "source": [
    "#Temps et fichiers\n",
    "import os\n",
    "import warnings\n",
    "import time\n",
    "from datetime import timedelta\n",
    "\n",
    "#Manipulation de données\n",
    "import pandas as pd\n",
    "import numpy as np\n",
    "\n",
    "# Text\n",
    "import nltk\n",
    "nltk.download('punkt')\n",
    "from nltk.tokenize import word_tokenize\n",
    "nltk.download('stopwords')\n",
    "from nltk.corpus import stopwords\n",
    "nltk.download('vader_lexicon')\n",
    "from nltk.sentiment.vader import SentimentIntensityAnalyzer\n",
    "from textblob import TextBlob\n",
    "import string\n",
    "import re\n",
    "import spacy \n",
    "from emot.emo_unicode import UNICODE_EMO, EMOTICONS\n",
    "\n",
    "#Modélisation\n",
    "from sklearn.pipeline import Pipeline, FeatureUnion\n",
    "from sklearn.feature_extraction.text import TfidfVectorizer\n",
    "from sklearn.preprocessing import StandardScaler\n",
    "from sklearn.decomposition import TruncatedSVD\n",
    "from sklearn.ensemble import RandomForestClassifier\n",
    "from sklearn.base import BaseEstimator, TransformerMixin\n",
    "from sklearn.svm import LinearSVC\n",
    "from sklearn.model_selection import RandomizedSearchCV# the keys can be accessed with final_pipeline.get_params().keys()\n",
    "from sklearn.linear_model import LogisticRegression\n",
    "\n",
    "from xgboost import XGBClassifier\n",
    "\n",
    "\n",
    "#Evaluation\n",
    "from sklearn.metrics import f1_score, confusion_matrix\n",
    "\n",
    "\n",
    "#Visualisation\n",
    "import matplotlib.pyplot as plt\n",
    "%matplotlib inline\n",
    "import seaborn as sns\n",
    "import plotly.express as px\n",
    "\n",
    "\n",
    "#Tracking d'expérience\n",
    "import mlflow\n",
    "import mlflow.sklearn\n",
    "\n",
    "from sklearn.feature_extraction.text import CountVectorizer\n",
    "from sklearn.feature_extraction.text import TfidfVectorizer\n",
    "from sklearn.feature_extraction.text import TfidfTransformer"
   ]
  },
  {
   "cell_type": "code",
   "execution_count": 62,
   "id": "economic-charlotte",
   "metadata": {},
   "outputs": [],
   "source": [
    "!pip freeze > /mnt/docker/requirements.txt"
   ]
  },
  {
   "cell_type": "markdown",
   "id": "falling-camera",
   "metadata": {},
   "source": [
    "## Utilisation du package"
   ]
  },
  {
   "cell_type": "code",
   "execution_count": 8,
   "id": "dominant-north",
   "metadata": {},
   "outputs": [],
   "source": [
    "#Cette cellule permet d'appeler la version packagée du projet et d'en assurer le reload avant appel des fonctions\n",
    "%load_ext autoreload\n",
    "%autoreload 2"
   ]
  },
  {
   "cell_type": "code",
   "execution_count": 9,
   "id": "friendly-flour",
   "metadata": {},
   "outputs": [],
   "source": [
    "from dsa_sentiment.scripts.make_dataset import load_data\n",
    "from dsa_sentiment.scripts.evaluate import eval_metrics\n",
    "from dsa_sentiment.scripts.make_dataset import Preprocess_StrLower, Preprocess_transform_target"
   ]
  },
  {
   "cell_type": "markdown",
   "id": "pacific-george",
   "metadata": {},
   "source": [
    "## Configuration de l'experiment MLFlow"
   ]
  },
  {
   "cell_type": "code",
   "execution_count": 10,
   "id": "chief-bicycle",
   "metadata": {},
   "outputs": [
    {
     "data": {
      "text/plain": [
       "'/mnt/experiments'"
      ]
     },
     "execution_count": 10,
     "metadata": {},
     "output_type": "execute_result"
    }
   ],
   "source": [
    "mlflow.tracking.get_tracking_uri()"
   ]
  },
  {
   "cell_type": "markdown",
   "id": "combined-sucking",
   "metadata": {},
   "source": [
    "## Description de la stratégie employée"
   ]
  },
  {
   "cell_type": "markdown",
   "id": "worth-midwest",
   "metadata": {},
   "source": [
    "L'approche déployée consiste à analyser des tweets en langue anglaise et de prédire les sentiments qu'ils portent : `{negative: -1, neutral: 0, positive: 1}`"
   ]
  },
  {
   "cell_type": "markdown",
   "id": "imported-bryan",
   "metadata": {},
   "source": [
    "Dans cet exercice, la langue anglaise est un facteur facilitant dans la mesure où beaucoup de modèles préentrainés existent dans cette langue."
   ]
  },
  {
   "cell_type": "markdown",
   "id": "durable-links",
   "metadata": {},
   "source": [
    "La difficulté dans cet exercice provient de sa source : les tweets.\n",
    "Les approches classiques reposent sur :\n",
    "- le passage en minuscule, or dans les tweets, l'utilisation de mots en **majuscules** est un marqueur d'une **émotion forte**\n",
    "- l'utilisation de structures linguisitiques relativement correctes augmentées par la lemmatisation / tokenisation. \n",
    "Or, les mots utilisés dans les tweets font l'objet de nombreuses **fautes d'orthographes ou d'abbréviations** (ex `thx`)\n",
    "- les marqueurs de ponctuation sont usuellement retirés, or ici, ils peuvent être utilisés comme **smiley** `;-)` ou pour marquer une **émotion forte** `!!!`\n",
    "- l'**humour** et les **euphémismes** sont très présents sur tweeter, or les modèles ont beaucoup de mal à distinguer ces cas qui nécessitent une compréhension contextuelle."
   ]
  },
  {
   "cell_type": "markdown",
   "id": "conservative-remove",
   "metadata": {},
   "source": [
    "En complément au sujet du TD lui-même, celui-ci a été l'occasion de monter en compétence avec les (je l'espère) bonnes pratiques de codage et l'utilisation de techniques de MLOps.\n",
    "\n",
    "Le code de ce projet a été organisé en s'appuyant sur le framework open source [**orbyter**](https://github.com/manifoldai/orbyter-cookiecutter) de la société [Manifold.ai](https://www.manifold.ai/project-orbyter). Ce framework pousse à la standardisation de la structure du code, via l'utilisation de `cookiecutter` et promeut un développement dans un environnement dockerisé dès le départ : \n",
    "\n",
    "![structure](https://www.manifold.ai/hubfs/Torus.png) \n",
    "\n",
    "La logique de développement pronée est disponible [ici](https://cdn2.hubspot.net/hubfs/4584542/Conference%20Slides/2019StrataNY_EfficientMLengineering.pdf)\n",
    "\n",
    "Plusieurs modifications ont dû être apportées aux paramètres du `docker-compose` pour permettre un accès aux ressources GPU depuis le docker.\n",
    "\n",
    "Le code a été versionné et est disponible ici [github](https://github.com/Fabien-DS/DSA_Sentiment)"
   ]
  },
  {
   "cell_type": "markdown",
   "id": "secret-joseph",
   "metadata": {},
   "source": [
    "### Chargement des données"
   ]
  },
  {
   "cell_type": "code",
   "execution_count": 11,
   "id": "tender-priority",
   "metadata": {},
   "outputs": [
    {
     "name": "stdout",
     "output_type": "stream",
     "text": [
      "/mnt/notebooks/EDA\n"
     ]
    }
   ],
   "source": [
    "!pwd"
   ]
  },
  {
   "cell_type": "code",
   "execution_count": 12,
   "id": "numerous-barbados",
   "metadata": {},
   "outputs": [
    {
     "data": {
      "text/plain": [
       "['/mnt/data/raw/sample_submission.csv',\n",
       " '/mnt/data/raw/test.csv',\n",
       " '/mnt/data/raw/train.csv']"
      ]
     },
     "execution_count": 12,
     "metadata": {},
     "output_type": "execute_result"
    }
   ],
   "source": [
    "data_folder = os.path.join('/mnt', 'data', 'raw')\n",
    "all_raw_files = [os.path.join(data_folder, fname)\n",
    "                    for fname in os.listdir(data_folder)]\n",
    "all_raw_files"
   ]
  },
  {
   "cell_type": "code",
   "execution_count": 13,
   "id": "related-transsexual",
   "metadata": {},
   "outputs": [],
   "source": [
    "random_state=42"
   ]
  },
  {
   "cell_type": "markdown",
   "id": "civil-sherman",
   "metadata": {},
   "source": [
    "Il n'est pas possible de faire de l'imputation comme avec des champs numérique. Il convient donc de supprimer les tweets vides (`dropNA=True`).\n",
    "\n",
    "En complément, il est decidé de réserver 30% du jeu d'entrainnement pour créer un jeu de validation."
   ]
  },
  {
   "cell_type": "code",
   "execution_count": 14,
   "id": "angry-animation",
   "metadata": {},
   "outputs": [],
   "source": [
    "X_train, y_train, X_val, y_val = load_data(all_raw_files[2], split=True, test_size=0.3, random_state=random_state, dropNA=True)"
   ]
  },
  {
   "cell_type": "code",
   "execution_count": 15,
   "id": "virtual-going",
   "metadata": {},
   "outputs": [
    {
     "data": {
      "text/html": [
       "<div>\n",
       "<style scoped>\n",
       "    .dataframe tbody tr th:only-of-type {\n",
       "        vertical-align: middle;\n",
       "    }\n",
       "\n",
       "    .dataframe tbody tr th {\n",
       "        vertical-align: top;\n",
       "    }\n",
       "\n",
       "    .dataframe thead th {\n",
       "        text-align: right;\n",
       "    }\n",
       "</style>\n",
       "<table border=\"1\" class=\"dataframe\">\n",
       "  <thead>\n",
       "    <tr style=\"text-align: right;\">\n",
       "      <th></th>\n",
       "      <th>textID</th>\n",
       "      <th>text</th>\n",
       "      <th>selected_text</th>\n",
       "    </tr>\n",
       "  </thead>\n",
       "  <tbody>\n",
       "    <tr>\n",
       "      <th>0</th>\n",
       "      <td>cb774db0d1</td>\n",
       "      <td>I`d have responded, if I were going</td>\n",
       "      <td>I`d have responded, if I were going</td>\n",
       "    </tr>\n",
       "    <tr>\n",
       "      <th>1</th>\n",
       "      <td>549e992a42</td>\n",
       "      <td>Sooo SAD I will miss you here in San Diego!!!</td>\n",
       "      <td>Sooo SAD</td>\n",
       "    </tr>\n",
       "    <tr>\n",
       "      <th>2</th>\n",
       "      <td>088c60f138</td>\n",
       "      <td>my boss is bullying me...</td>\n",
       "      <td>bullying me</td>\n",
       "    </tr>\n",
       "    <tr>\n",
       "      <th>3</th>\n",
       "      <td>9642c003ef</td>\n",
       "      <td>what interview! leave me alone</td>\n",
       "      <td>leave me alone</td>\n",
       "    </tr>\n",
       "    <tr>\n",
       "      <th>4</th>\n",
       "      <td>358bd9e861</td>\n",
       "      <td>Sons of ****, why couldn`t they put them on t...</td>\n",
       "      <td>Sons of ****,</td>\n",
       "    </tr>\n",
       "  </tbody>\n",
       "</table>\n",
       "</div>"
      ],
      "text/plain": [
       "       textID                                               text  \\\n",
       "0  cb774db0d1                I`d have responded, if I were going   \n",
       "1  549e992a42      Sooo SAD I will miss you here in San Diego!!!   \n",
       "2  088c60f138                          my boss is bullying me...   \n",
       "3  9642c003ef                     what interview! leave me alone   \n",
       "4  358bd9e861   Sons of ****, why couldn`t they put them on t...   \n",
       "\n",
       "                         selected_text  \n",
       "0  I`d have responded, if I were going  \n",
       "1                             Sooo SAD  \n",
       "2                          bullying me  \n",
       "3                       leave me alone  \n",
       "4                        Sons of ****,  "
      ]
     },
     "execution_count": 15,
     "metadata": {},
     "output_type": "execute_result"
    }
   ],
   "source": [
    "X_train.head()"
   ]
  },
  {
   "cell_type": "code",
   "execution_count": 16,
   "id": "similar-madagascar",
   "metadata": {},
   "outputs": [
    {
     "name": "stdout",
     "output_type": "stream",
     "text": [
      "le jeu d'entraînement initial contient 27480 lignes\n"
     ]
    }
   ],
   "source": [
    "print(f'le jeu d\\'entraînement initial contient', X_train.shape[0] + X_val.shape[0], 'lignes')"
   ]
  },
  {
   "cell_type": "code",
   "execution_count": 17,
   "id": "cubic-collective",
   "metadata": {},
   "outputs": [
    {
     "data": {
      "text/html": [
       "<div>\n",
       "<style scoped>\n",
       "    .dataframe tbody tr th:only-of-type {\n",
       "        vertical-align: middle;\n",
       "    }\n",
       "\n",
       "    .dataframe tbody tr th {\n",
       "        vertical-align: top;\n",
       "    }\n",
       "\n",
       "    .dataframe thead th {\n",
       "        text-align: right;\n",
       "    }\n",
       "</style>\n",
       "<table border=\"1\" class=\"dataframe\">\n",
       "  <thead>\n",
       "    <tr style=\"text-align: right;\">\n",
       "      <th></th>\n",
       "      <th>sentiment</th>\n",
       "    </tr>\n",
       "  </thead>\n",
       "  <tbody>\n",
       "    <tr>\n",
       "      <th>0</th>\n",
       "      <td>neutral</td>\n",
       "    </tr>\n",
       "    <tr>\n",
       "      <th>1</th>\n",
       "      <td>negative</td>\n",
       "    </tr>\n",
       "    <tr>\n",
       "      <th>2</th>\n",
       "      <td>negative</td>\n",
       "    </tr>\n",
       "    <tr>\n",
       "      <th>3</th>\n",
       "      <td>negative</td>\n",
       "    </tr>\n",
       "    <tr>\n",
       "      <th>4</th>\n",
       "      <td>negative</td>\n",
       "    </tr>\n",
       "  </tbody>\n",
       "</table>\n",
       "</div>"
      ],
      "text/plain": [
       "  sentiment\n",
       "0   neutral\n",
       "1  negative\n",
       "2  negative\n",
       "3  negative\n",
       "4  negative"
      ]
     },
     "execution_count": 17,
     "metadata": {},
     "output_type": "execute_result"
    }
   ],
   "source": [
    "y_train.head()"
   ]
  },
  {
   "cell_type": "code",
   "execution_count": 18,
   "id": "golden-velvet",
   "metadata": {},
   "outputs": [],
   "source": [
    "X_test, y_test = load_data(all_raw_files[1], split=False, random_state=random_state, dropNA=True)"
   ]
  },
  {
   "cell_type": "code",
   "execution_count": 19,
   "id": "speaking-teddy",
   "metadata": {},
   "outputs": [
    {
     "data": {
      "text/html": [
       "<div>\n",
       "<style scoped>\n",
       "    .dataframe tbody tr th:only-of-type {\n",
       "        vertical-align: middle;\n",
       "    }\n",
       "\n",
       "    .dataframe tbody tr th {\n",
       "        vertical-align: top;\n",
       "    }\n",
       "\n",
       "    .dataframe thead th {\n",
       "        text-align: right;\n",
       "    }\n",
       "</style>\n",
       "<table border=\"1\" class=\"dataframe\">\n",
       "  <thead>\n",
       "    <tr style=\"text-align: right;\">\n",
       "      <th></th>\n",
       "      <th>textID</th>\n",
       "      <th>text</th>\n",
       "    </tr>\n",
       "  </thead>\n",
       "  <tbody>\n",
       "    <tr>\n",
       "      <th>0</th>\n",
       "      <td>f87dea47db</td>\n",
       "      <td>Last session of the day  http://twitpic.com/67ezh</td>\n",
       "    </tr>\n",
       "    <tr>\n",
       "      <th>1</th>\n",
       "      <td>96d74cb729</td>\n",
       "      <td>Shanghai is also really exciting (precisely -...</td>\n",
       "    </tr>\n",
       "    <tr>\n",
       "      <th>2</th>\n",
       "      <td>eee518ae67</td>\n",
       "      <td>Recession hit Veronique Branquinho, she has to...</td>\n",
       "    </tr>\n",
       "    <tr>\n",
       "      <th>3</th>\n",
       "      <td>01082688c6</td>\n",
       "      <td>happy bday!</td>\n",
       "    </tr>\n",
       "    <tr>\n",
       "      <th>4</th>\n",
       "      <td>33987a8ee5</td>\n",
       "      <td>http://twitpic.com/4w75p - I like it!!</td>\n",
       "    </tr>\n",
       "  </tbody>\n",
       "</table>\n",
       "</div>"
      ],
      "text/plain": [
       "       textID                                               text\n",
       "0  f87dea47db  Last session of the day  http://twitpic.com/67ezh\n",
       "1  96d74cb729   Shanghai is also really exciting (precisely -...\n",
       "2  eee518ae67  Recession hit Veronique Branquinho, she has to...\n",
       "3  01082688c6                                        happy bday!\n",
       "4  33987a8ee5             http://twitpic.com/4w75p - I like it!!"
      ]
     },
     "execution_count": 19,
     "metadata": {},
     "output_type": "execute_result"
    }
   ],
   "source": [
    "X_test.head()"
   ]
  },
  {
   "cell_type": "code",
   "execution_count": 20,
   "id": "national-wagon",
   "metadata": {},
   "outputs": [
    {
     "name": "stdout",
     "output_type": "stream",
     "text": [
      "le jeu de test contient 3534 lignes\n"
     ]
    }
   ],
   "source": [
    "print(f'le jeu de test contient', X_test.shape[0] , 'lignes')"
   ]
  },
  {
   "cell_type": "markdown",
   "id": "civilian-idaho",
   "metadata": {},
   "source": [
    "### Transformation initiales des données"
   ]
  },
  {
   "cell_type": "markdown",
   "id": "quiet-table",
   "metadata": {},
   "source": [
    "Cette partie vise uniquement à sélectionner les colonnes dont nous nous servirons et à transcoder la cible au format souhaité."
   ]
  },
  {
   "cell_type": "code",
   "execution_count": 21,
   "id": "intelligent-hazard",
   "metadata": {},
   "outputs": [],
   "source": [
    "# Dans ce projet on ne se servira que du champs `text`. On cherche toutefois à conserver le format pandas DataFrame\n",
    "X_train = X_train[['text']]\n",
    "X_val = X_val[['text']]\n",
    "X_test = X_test[['text']]"
   ]
  },
  {
   "cell_type": "code",
   "execution_count": 22,
   "id": "upper-walter",
   "metadata": {},
   "outputs": [
    {
     "data": {
      "text/html": [
       "<div>\n",
       "<style scoped>\n",
       "    .dataframe tbody tr th:only-of-type {\n",
       "        vertical-align: middle;\n",
       "    }\n",
       "\n",
       "    .dataframe tbody tr th {\n",
       "        vertical-align: top;\n",
       "    }\n",
       "\n",
       "    .dataframe thead th {\n",
       "        text-align: right;\n",
       "    }\n",
       "</style>\n",
       "<table border=\"1\" class=\"dataframe\">\n",
       "  <thead>\n",
       "    <tr style=\"text-align: right;\">\n",
       "      <th></th>\n",
       "      <th>text</th>\n",
       "    </tr>\n",
       "  </thead>\n",
       "  <tbody>\n",
       "    <tr>\n",
       "      <th>0</th>\n",
       "      <td>I`d have responded, if I were going</td>\n",
       "    </tr>\n",
       "    <tr>\n",
       "      <th>1</th>\n",
       "      <td>Sooo SAD I will miss you here in San Diego!!!</td>\n",
       "    </tr>\n",
       "    <tr>\n",
       "      <th>2</th>\n",
       "      <td>my boss is bullying me...</td>\n",
       "    </tr>\n",
       "    <tr>\n",
       "      <th>3</th>\n",
       "      <td>what interview! leave me alone</td>\n",
       "    </tr>\n",
       "    <tr>\n",
       "      <th>4</th>\n",
       "      <td>Sons of ****, why couldn`t they put them on t...</td>\n",
       "    </tr>\n",
       "  </tbody>\n",
       "</table>\n",
       "</div>"
      ],
      "text/plain": [
       "                                                text\n",
       "0                I`d have responded, if I were going\n",
       "1      Sooo SAD I will miss you here in San Diego!!!\n",
       "2                          my boss is bullying me...\n",
       "3                     what interview! leave me alone\n",
       "4   Sons of ****, why couldn`t they put them on t..."
      ]
     },
     "execution_count": 22,
     "metadata": {},
     "output_type": "execute_result"
    }
   ],
   "source": [
    "X_train.head()"
   ]
  },
  {
   "cell_type": "markdown",
   "id": "czech-corpus",
   "metadata": {},
   "source": [
    "On commence par transformer les cibles pour se conformer aux instructions"
   ]
  },
  {
   "cell_type": "code",
   "execution_count": 23,
   "id": "confident-young",
   "metadata": {},
   "outputs": [
    {
     "data": {
      "text/html": [
       "<div>\n",
       "<style scoped>\n",
       "    .dataframe tbody tr th:only-of-type {\n",
       "        vertical-align: middle;\n",
       "    }\n",
       "\n",
       "    .dataframe tbody tr th {\n",
       "        vertical-align: top;\n",
       "    }\n",
       "\n",
       "    .dataframe thead th {\n",
       "        text-align: right;\n",
       "    }\n",
       "</style>\n",
       "<table border=\"1\" class=\"dataframe\">\n",
       "  <thead>\n",
       "    <tr style=\"text-align: right;\">\n",
       "      <th></th>\n",
       "      <th>sentiment</th>\n",
       "    </tr>\n",
       "  </thead>\n",
       "  <tbody>\n",
       "    <tr>\n",
       "      <th>0</th>\n",
       "      <td>0</td>\n",
       "    </tr>\n",
       "    <tr>\n",
       "      <th>1</th>\n",
       "      <td>-1</td>\n",
       "    </tr>\n",
       "    <tr>\n",
       "      <th>2</th>\n",
       "      <td>-1</td>\n",
       "    </tr>\n",
       "    <tr>\n",
       "      <th>3</th>\n",
       "      <td>-1</td>\n",
       "    </tr>\n",
       "    <tr>\n",
       "      <th>4</th>\n",
       "      <td>-1</td>\n",
       "    </tr>\n",
       "  </tbody>\n",
       "</table>\n",
       "</div>"
      ],
      "text/plain": [
       "   sentiment\n",
       "0          0\n",
       "1         -1\n",
       "2         -1\n",
       "3         -1\n",
       "4         -1"
      ]
     },
     "execution_count": 23,
     "metadata": {},
     "output_type": "execute_result"
    }
   ],
   "source": [
    "y_train = Preprocess_transform_target(y_train, columns_to_process=['sentiment'])\n",
    "y_train.head()"
   ]
  },
  {
   "cell_type": "code",
   "execution_count": 24,
   "id": "perceived-sigma",
   "metadata": {},
   "outputs": [
    {
     "data": {
      "text/html": [
       "<div>\n",
       "<style scoped>\n",
       "    .dataframe tbody tr th:only-of-type {\n",
       "        vertical-align: middle;\n",
       "    }\n",
       "\n",
       "    .dataframe tbody tr th {\n",
       "        vertical-align: top;\n",
       "    }\n",
       "\n",
       "    .dataframe thead th {\n",
       "        text-align: right;\n",
       "    }\n",
       "</style>\n",
       "<table border=\"1\" class=\"dataframe\">\n",
       "  <thead>\n",
       "    <tr style=\"text-align: right;\">\n",
       "      <th></th>\n",
       "      <th>sentiment</th>\n",
       "    </tr>\n",
       "  </thead>\n",
       "  <tbody>\n",
       "    <tr>\n",
       "      <th>19236</th>\n",
       "      <td>0</td>\n",
       "    </tr>\n",
       "    <tr>\n",
       "      <th>19237</th>\n",
       "      <td>-1</td>\n",
       "    </tr>\n",
       "    <tr>\n",
       "      <th>19238</th>\n",
       "      <td>1</td>\n",
       "    </tr>\n",
       "    <tr>\n",
       "      <th>19239</th>\n",
       "      <td>-1</td>\n",
       "    </tr>\n",
       "    <tr>\n",
       "      <th>19240</th>\n",
       "      <td>1</td>\n",
       "    </tr>\n",
       "  </tbody>\n",
       "</table>\n",
       "</div>"
      ],
      "text/plain": [
       "       sentiment\n",
       "19236          0\n",
       "19237         -1\n",
       "19238          1\n",
       "19239         -1\n",
       "19240          1"
      ]
     },
     "execution_count": 24,
     "metadata": {},
     "output_type": "execute_result"
    }
   ],
   "source": [
    "y_val = Preprocess_transform_target(y_val, ['sentiment'])\n",
    "y_val.head()"
   ]
  },
  {
   "cell_type": "code",
   "execution_count": 25,
   "id": "informed-disposition",
   "metadata": {},
   "outputs": [
    {
     "data": {
      "text/html": [
       "<div>\n",
       "<style scoped>\n",
       "    .dataframe tbody tr th:only-of-type {\n",
       "        vertical-align: middle;\n",
       "    }\n",
       "\n",
       "    .dataframe tbody tr th {\n",
       "        vertical-align: top;\n",
       "    }\n",
       "\n",
       "    .dataframe thead th {\n",
       "        text-align: right;\n",
       "    }\n",
       "</style>\n",
       "<table border=\"1\" class=\"dataframe\">\n",
       "  <thead>\n",
       "    <tr style=\"text-align: right;\">\n",
       "      <th></th>\n",
       "      <th>sentiment</th>\n",
       "    </tr>\n",
       "  </thead>\n",
       "  <tbody>\n",
       "    <tr>\n",
       "      <th>0</th>\n",
       "      <td>0</td>\n",
       "    </tr>\n",
       "    <tr>\n",
       "      <th>1</th>\n",
       "      <td>1</td>\n",
       "    </tr>\n",
       "    <tr>\n",
       "      <th>2</th>\n",
       "      <td>-1</td>\n",
       "    </tr>\n",
       "    <tr>\n",
       "      <th>3</th>\n",
       "      <td>1</td>\n",
       "    </tr>\n",
       "    <tr>\n",
       "      <th>4</th>\n",
       "      <td>1</td>\n",
       "    </tr>\n",
       "  </tbody>\n",
       "</table>\n",
       "</div>"
      ],
      "text/plain": [
       "   sentiment\n",
       "0          0\n",
       "1          1\n",
       "2         -1\n",
       "3          1\n",
       "4          1"
      ]
     },
     "execution_count": 25,
     "metadata": {},
     "output_type": "execute_result"
    }
   ],
   "source": [
    "y_test = Preprocess_transform_target(y_test, ['sentiment'])\n",
    "y_test.head()"
   ]
  },
  {
   "cell_type": "markdown",
   "id": "little-thought",
   "metadata": {},
   "source": [
    "# EDA"
   ]
  },
  {
   "cell_type": "markdown",
   "id": "solar-feedback",
   "metadata": {},
   "source": [
    "Parmi les éléments propres auw tweets qui peuvent avoir un impact sur la suite on compte :\n",
    "\n",
    " - les mots clefs marqués par un `#`\n",
    " - les noms d'utilisateurs commençant par un `@`\n",
    " - les valeurs numériques mentionnées\n",
    " - les nombre de mots en MAJUSCULES"
   ]
  },
  {
   "cell_type": "code",
   "execution_count": 26,
   "id": "executive-saver",
   "metadata": {},
   "outputs": [],
   "source": [
    "def count_hashtags(df, text_field):\n",
    "    '''\n",
    "    count the number of keywords marked by a '#'\n",
    "    \n",
    "    inputs : \n",
    "        df : a dataframe\n",
    "        text_field : the name of the text column to analyse\n",
    "    \n",
    "    returns :\n",
    "        a copy of the dataframe df augmented by an additional column 'hashtags_count'\n",
    "    \n",
    "    '''\n",
    "    df['hashtags_count'] = df[text_field].apply( lambda x : len( [ x for x in x.split() if x.startswith('#') ]))\n",
    "    return df"
   ]
  },
  {
   "cell_type": "code",
   "execution_count": 27,
   "id": "handled-colleague",
   "metadata": {},
   "outputs": [
    {
     "data": {
      "text/html": [
       "<div>\n",
       "<style scoped>\n",
       "    .dataframe tbody tr th:only-of-type {\n",
       "        vertical-align: middle;\n",
       "    }\n",
       "\n",
       "    .dataframe tbody tr th {\n",
       "        vertical-align: top;\n",
       "    }\n",
       "\n",
       "    .dataframe thead th {\n",
       "        text-align: right;\n",
       "    }\n",
       "</style>\n",
       "<table border=\"1\" class=\"dataframe\">\n",
       "  <thead>\n",
       "    <tr style=\"text-align: right;\">\n",
       "      <th></th>\n",
       "      <th>text</th>\n",
       "      <th>hashtags_count</th>\n",
       "    </tr>\n",
       "  </thead>\n",
       "  <tbody>\n",
       "    <tr>\n",
       "      <th>0</th>\n",
       "      <td>I`d have responded, if I were going</td>\n",
       "      <td>0</td>\n",
       "    </tr>\n",
       "    <tr>\n",
       "      <th>1</th>\n",
       "      <td>Sooo SAD I will miss you here in San Diego!!!</td>\n",
       "      <td>0</td>\n",
       "    </tr>\n",
       "    <tr>\n",
       "      <th>2</th>\n",
       "      <td>my boss is bullying me...</td>\n",
       "      <td>0</td>\n",
       "    </tr>\n",
       "    <tr>\n",
       "      <th>3</th>\n",
       "      <td>what interview! leave me alone</td>\n",
       "      <td>0</td>\n",
       "    </tr>\n",
       "    <tr>\n",
       "      <th>4</th>\n",
       "      <td>Sons of ****, why couldn`t they put them on t...</td>\n",
       "      <td>0</td>\n",
       "    </tr>\n",
       "  </tbody>\n",
       "</table>\n",
       "</div>"
      ],
      "text/plain": [
       "                                                text  hashtags_count\n",
       "0                I`d have responded, if I were going               0\n",
       "1      Sooo SAD I will miss you here in San Diego!!!               0\n",
       "2                          my boss is bullying me...               0\n",
       "3                     what interview! leave me alone               0\n",
       "4   Sons of ****, why couldn`t they put them on t...               0"
      ]
     },
     "execution_count": 27,
     "metadata": {},
     "output_type": "execute_result"
    }
   ],
   "source": [
    "X_train = count_hashtags(X_train, 'text')\n",
    "X_val = count_hashtags(X_val, 'text')\n",
    "X_test = count_hashtags(X_test, 'text')\n",
    "X_train.head(5)"
   ]
  },
  {
   "cell_type": "code",
   "execution_count": 28,
   "id": "continental-scenario",
   "metadata": {},
   "outputs": [
    {
     "name": "stdout",
     "output_type": "stream",
     "text": [
      "Help on function count_hashtags in module __main__:\n",
      "\n",
      "count_hashtags(df, text_field)\n",
      "    count the number of keywords marked by a '#'\n",
      "    \n",
      "    inputs : \n",
      "        df : a dataframe\n",
      "        text_field : the name of the text column to analyse\n",
      "    \n",
      "    returns :\n",
      "        a copy of the dataframe df augmented by an additional column 'hashtags_count'\n",
      "\n"
     ]
    }
   ],
   "source": [
    "help(count_hashtags)"
   ]
  },
  {
   "cell_type": "code",
   "execution_count": 29,
   "id": "tough-diagnosis",
   "metadata": {},
   "outputs": [
    {
     "data": {
      "text/html": [
       "<div>\n",
       "<style scoped>\n",
       "    .dataframe tbody tr th:only-of-type {\n",
       "        vertical-align: middle;\n",
       "    }\n",
       "\n",
       "    .dataframe tbody tr th {\n",
       "        vertical-align: top;\n",
       "    }\n",
       "\n",
       "    .dataframe thead th {\n",
       "        text-align: right;\n",
       "    }\n",
       "</style>\n",
       "<table border=\"1\" class=\"dataframe\">\n",
       "  <thead>\n",
       "    <tr style=\"text-align: right;\">\n",
       "      <th></th>\n",
       "      <th>hashtags_count</th>\n",
       "    </tr>\n",
       "  </thead>\n",
       "  <tbody>\n",
       "    <tr>\n",
       "      <th>count</th>\n",
       "      <td>19236.000000</td>\n",
       "    </tr>\n",
       "    <tr>\n",
       "      <th>mean</th>\n",
       "      <td>0.021574</td>\n",
       "    </tr>\n",
       "    <tr>\n",
       "      <th>std</th>\n",
       "      <td>0.168488</td>\n",
       "    </tr>\n",
       "    <tr>\n",
       "      <th>min</th>\n",
       "      <td>0.000000</td>\n",
       "    </tr>\n",
       "    <tr>\n",
       "      <th>25%</th>\n",
       "      <td>0.000000</td>\n",
       "    </tr>\n",
       "    <tr>\n",
       "      <th>50%</th>\n",
       "      <td>0.000000</td>\n",
       "    </tr>\n",
       "    <tr>\n",
       "      <th>75%</th>\n",
       "      <td>0.000000</td>\n",
       "    </tr>\n",
       "    <tr>\n",
       "      <th>max</th>\n",
       "      <td>5.000000</td>\n",
       "    </tr>\n",
       "  </tbody>\n",
       "</table>\n",
       "</div>"
      ],
      "text/plain": [
       "       hashtags_count\n",
       "count    19236.000000\n",
       "mean         0.021574\n",
       "std          0.168488\n",
       "min          0.000000\n",
       "25%          0.000000\n",
       "50%          0.000000\n",
       "75%          0.000000\n",
       "max          5.000000"
      ]
     },
     "execution_count": 29,
     "metadata": {},
     "output_type": "execute_result"
    }
   ],
   "source": [
    "X_train.describe()"
   ]
  },
  {
   "cell_type": "code",
   "execution_count": 30,
   "id": "based-cooler",
   "metadata": {},
   "outputs": [],
   "source": [
    "def count_usernames(df, text_field):\n",
    "    '''\n",
    "    count the number of users marked by a '@'\n",
    "    \n",
    "    inputs : \n",
    "        df : a dataframe\n",
    "        text_field : the name of the text column to analyse\n",
    "    \n",
    "    returns :\n",
    "        a copy of the dataframe df augmented by an additional column 'users_tagged'\n",
    "    \n",
    "    '''\n",
    "    df['users_tagged'] = df[text_field].apply( lambda x : len( [ x for x in x.split() if x.startswith('@') ]))\n",
    "    return df"
   ]
  },
  {
   "cell_type": "code",
   "execution_count": 31,
   "id": "dental-flash",
   "metadata": {},
   "outputs": [],
   "source": [
    "X_train = count_usernames(X_train, 'text')\n",
    "X_val = count_usernames(X_val, 'text')\n",
    "X_test = count_usernames(X_test, 'text')"
   ]
  },
  {
   "cell_type": "code",
   "execution_count": 32,
   "id": "reasonable-label",
   "metadata": {},
   "outputs": [
    {
     "data": {
      "text/html": [
       "<div>\n",
       "<style scoped>\n",
       "    .dataframe tbody tr th:only-of-type {\n",
       "        vertical-align: middle;\n",
       "    }\n",
       "\n",
       "    .dataframe tbody tr th {\n",
       "        vertical-align: top;\n",
       "    }\n",
       "\n",
       "    .dataframe thead th {\n",
       "        text-align: right;\n",
       "    }\n",
       "</style>\n",
       "<table border=\"1\" class=\"dataframe\">\n",
       "  <thead>\n",
       "    <tr style=\"text-align: right;\">\n",
       "      <th></th>\n",
       "      <th>text</th>\n",
       "      <th>hashtags_count</th>\n",
       "      <th>users_tagged</th>\n",
       "    </tr>\n",
       "  </thead>\n",
       "  <tbody>\n",
       "    <tr>\n",
       "      <th>0</th>\n",
       "      <td>I`d have responded, if I were going</td>\n",
       "      <td>0</td>\n",
       "      <td>0</td>\n",
       "    </tr>\n",
       "    <tr>\n",
       "      <th>1</th>\n",
       "      <td>Sooo SAD I will miss you here in San Diego!!!</td>\n",
       "      <td>0</td>\n",
       "      <td>0</td>\n",
       "    </tr>\n",
       "    <tr>\n",
       "      <th>2</th>\n",
       "      <td>my boss is bullying me...</td>\n",
       "      <td>0</td>\n",
       "      <td>0</td>\n",
       "    </tr>\n",
       "    <tr>\n",
       "      <th>3</th>\n",
       "      <td>what interview! leave me alone</td>\n",
       "      <td>0</td>\n",
       "      <td>0</td>\n",
       "    </tr>\n",
       "    <tr>\n",
       "      <th>4</th>\n",
       "      <td>Sons of ****, why couldn`t they put them on t...</td>\n",
       "      <td>0</td>\n",
       "      <td>0</td>\n",
       "    </tr>\n",
       "  </tbody>\n",
       "</table>\n",
       "</div>"
      ],
      "text/plain": [
       "                                                text  hashtags_count  \\\n",
       "0                I`d have responded, if I were going               0   \n",
       "1      Sooo SAD I will miss you here in San Diego!!!               0   \n",
       "2                          my boss is bullying me...               0   \n",
       "3                     what interview! leave me alone               0   \n",
       "4   Sons of ****, why couldn`t they put them on t...               0   \n",
       "\n",
       "   users_tagged  \n",
       "0             0  \n",
       "1             0  \n",
       "2             0  \n",
       "3             0  \n",
       "4             0  "
      ]
     },
     "execution_count": 32,
     "metadata": {},
     "output_type": "execute_result"
    }
   ],
   "source": [
    "X_train.head()"
   ]
  },
  {
   "cell_type": "code",
   "execution_count": 33,
   "id": "professional-overview",
   "metadata": {},
   "outputs": [
    {
     "data": {
      "text/html": [
       "<div>\n",
       "<style scoped>\n",
       "    .dataframe tbody tr th:only-of-type {\n",
       "        vertical-align: middle;\n",
       "    }\n",
       "\n",
       "    .dataframe tbody tr th {\n",
       "        vertical-align: top;\n",
       "    }\n",
       "\n",
       "    .dataframe thead th {\n",
       "        text-align: right;\n",
       "    }\n",
       "</style>\n",
       "<table border=\"1\" class=\"dataframe\">\n",
       "  <thead>\n",
       "    <tr style=\"text-align: right;\">\n",
       "      <th></th>\n",
       "      <th>hashtags_count</th>\n",
       "      <th>users_tagged</th>\n",
       "    </tr>\n",
       "  </thead>\n",
       "  <tbody>\n",
       "    <tr>\n",
       "      <th>count</th>\n",
       "      <td>19236.000000</td>\n",
       "      <td>19236.000000</td>\n",
       "    </tr>\n",
       "    <tr>\n",
       "      <th>mean</th>\n",
       "      <td>0.021574</td>\n",
       "      <td>0.010241</td>\n",
       "    </tr>\n",
       "    <tr>\n",
       "      <th>std</th>\n",
       "      <td>0.168488</td>\n",
       "      <td>0.103734</td>\n",
       "    </tr>\n",
       "    <tr>\n",
       "      <th>min</th>\n",
       "      <td>0.000000</td>\n",
       "      <td>0.000000</td>\n",
       "    </tr>\n",
       "    <tr>\n",
       "      <th>25%</th>\n",
       "      <td>0.000000</td>\n",
       "      <td>0.000000</td>\n",
       "    </tr>\n",
       "    <tr>\n",
       "      <th>50%</th>\n",
       "      <td>0.000000</td>\n",
       "      <td>0.000000</td>\n",
       "    </tr>\n",
       "    <tr>\n",
       "      <th>75%</th>\n",
       "      <td>0.000000</td>\n",
       "      <td>0.000000</td>\n",
       "    </tr>\n",
       "    <tr>\n",
       "      <th>max</th>\n",
       "      <td>5.000000</td>\n",
       "      <td>2.000000</td>\n",
       "    </tr>\n",
       "  </tbody>\n",
       "</table>\n",
       "</div>"
      ],
      "text/plain": [
       "       hashtags_count  users_tagged\n",
       "count    19236.000000  19236.000000\n",
       "mean         0.021574      0.010241\n",
       "std          0.168488      0.103734\n",
       "min          0.000000      0.000000\n",
       "25%          0.000000      0.000000\n",
       "50%          0.000000      0.000000\n",
       "75%          0.000000      0.000000\n",
       "max          5.000000      2.000000"
      ]
     },
     "execution_count": 33,
     "metadata": {},
     "output_type": "execute_result"
    }
   ],
   "source": [
    "X_train.describe()"
   ]
  },
  {
   "cell_type": "code",
   "execution_count": 34,
   "id": "classical-generic",
   "metadata": {},
   "outputs": [],
   "source": [
    "def count_numerical_values(df, text_field):\n",
    "    '''\n",
    "    count the number of numerical values in a text\n",
    "    \n",
    "    inputs : \n",
    "        df : a dataframe\n",
    "        text_field : the name of the text column to analyse\n",
    "    \n",
    "    returns :\n",
    "        a copy of the dataframe df augmented by an additional column 'number_num_val'\n",
    "    \n",
    "    '''\n",
    "    df['number_num_val'] = df[text_field].apply( lambda x : len( [ x for x in x.split() if x.isdigit() ]))\n",
    "    return df"
   ]
  },
  {
   "cell_type": "code",
   "execution_count": 35,
   "id": "theoretical-invasion",
   "metadata": {},
   "outputs": [],
   "source": [
    "X_train = count_numerical_values(X_train, 'text')\n",
    "X_val = count_numerical_values(X_val, 'text')\n",
    "X_test = count_numerical_values(X_test, 'text')"
   ]
  },
  {
   "cell_type": "code",
   "execution_count": 36,
   "id": "effective-nancy",
   "metadata": {},
   "outputs": [
    {
     "data": {
      "text/html": [
       "<div>\n",
       "<style scoped>\n",
       "    .dataframe tbody tr th:only-of-type {\n",
       "        vertical-align: middle;\n",
       "    }\n",
       "\n",
       "    .dataframe tbody tr th {\n",
       "        vertical-align: top;\n",
       "    }\n",
       "\n",
       "    .dataframe thead th {\n",
       "        text-align: right;\n",
       "    }\n",
       "</style>\n",
       "<table border=\"1\" class=\"dataframe\">\n",
       "  <thead>\n",
       "    <tr style=\"text-align: right;\">\n",
       "      <th></th>\n",
       "      <th>hashtags_count</th>\n",
       "      <th>users_tagged</th>\n",
       "      <th>number_num_val</th>\n",
       "    </tr>\n",
       "  </thead>\n",
       "  <tbody>\n",
       "    <tr>\n",
       "      <th>count</th>\n",
       "      <td>19236.000000</td>\n",
       "      <td>19236.000000</td>\n",
       "      <td>19236.000000</td>\n",
       "    </tr>\n",
       "    <tr>\n",
       "      <th>mean</th>\n",
       "      <td>0.021574</td>\n",
       "      <td>0.010241</td>\n",
       "      <td>0.085881</td>\n",
       "    </tr>\n",
       "    <tr>\n",
       "      <th>std</th>\n",
       "      <td>0.168488</td>\n",
       "      <td>0.103734</td>\n",
       "      <td>0.335115</td>\n",
       "    </tr>\n",
       "    <tr>\n",
       "      <th>min</th>\n",
       "      <td>0.000000</td>\n",
       "      <td>0.000000</td>\n",
       "      <td>0.000000</td>\n",
       "    </tr>\n",
       "    <tr>\n",
       "      <th>25%</th>\n",
       "      <td>0.000000</td>\n",
       "      <td>0.000000</td>\n",
       "      <td>0.000000</td>\n",
       "    </tr>\n",
       "    <tr>\n",
       "      <th>50%</th>\n",
       "      <td>0.000000</td>\n",
       "      <td>0.000000</td>\n",
       "      <td>0.000000</td>\n",
       "    </tr>\n",
       "    <tr>\n",
       "      <th>75%</th>\n",
       "      <td>0.000000</td>\n",
       "      <td>0.000000</td>\n",
       "      <td>0.000000</td>\n",
       "    </tr>\n",
       "    <tr>\n",
       "      <th>max</th>\n",
       "      <td>5.000000</td>\n",
       "      <td>2.000000</td>\n",
       "      <td>6.000000</td>\n",
       "    </tr>\n",
       "  </tbody>\n",
       "</table>\n",
       "</div>"
      ],
      "text/plain": [
       "       hashtags_count  users_tagged  number_num_val\n",
       "count    19236.000000  19236.000000    19236.000000\n",
       "mean         0.021574      0.010241        0.085881\n",
       "std          0.168488      0.103734        0.335115\n",
       "min          0.000000      0.000000        0.000000\n",
       "25%          0.000000      0.000000        0.000000\n",
       "50%          0.000000      0.000000        0.000000\n",
       "75%          0.000000      0.000000        0.000000\n",
       "max          5.000000      2.000000        6.000000"
      ]
     },
     "execution_count": 36,
     "metadata": {},
     "output_type": "execute_result"
    }
   ],
   "source": [
    "X_train.describe()"
   ]
  },
  {
   "cell_type": "code",
   "execution_count": 37,
   "id": "determined-stick",
   "metadata": {},
   "outputs": [],
   "source": [
    "def count_upper(df, text_field):\n",
    "    '''\n",
    "    count the number of upper case words in a text\n",
    "    \n",
    "    inputs : \n",
    "        df : a dataframe\n",
    "        text_field : the name of the text column to analyse\n",
    "    \n",
    "    returns :\n",
    "        a copy of the dataframe df augmented by an additional column 'num_upper'\n",
    "    \n",
    "    '''\n",
    "    df['num_upper'] = df[text_field].apply( lambda x : len( [ x for x in x.split() if x.isupper() ]))\n",
    "    return df"
   ]
  },
  {
   "cell_type": "code",
   "execution_count": 38,
   "id": "permanent-closing",
   "metadata": {},
   "outputs": [],
   "source": [
    "X_train = count_upper(X_train, 'text')\n",
    "X_val = count_upper(X_val, 'text')\n",
    "X_test = count_upper(X_test, 'text')"
   ]
  },
  {
   "cell_type": "code",
   "execution_count": 39,
   "id": "confused-visibility",
   "metadata": {},
   "outputs": [
    {
     "data": {
      "text/html": [
       "<div>\n",
       "<style scoped>\n",
       "    .dataframe tbody tr th:only-of-type {\n",
       "        vertical-align: middle;\n",
       "    }\n",
       "\n",
       "    .dataframe tbody tr th {\n",
       "        vertical-align: top;\n",
       "    }\n",
       "\n",
       "    .dataframe thead th {\n",
       "        text-align: right;\n",
       "    }\n",
       "</style>\n",
       "<table border=\"1\" class=\"dataframe\">\n",
       "  <thead>\n",
       "    <tr style=\"text-align: right;\">\n",
       "      <th></th>\n",
       "      <th>hashtags_count</th>\n",
       "      <th>users_tagged</th>\n",
       "      <th>number_num_val</th>\n",
       "      <th>num_upper</th>\n",
       "    </tr>\n",
       "  </thead>\n",
       "  <tbody>\n",
       "    <tr>\n",
       "      <th>count</th>\n",
       "      <td>19236.000000</td>\n",
       "      <td>19236.000000</td>\n",
       "      <td>19236.000000</td>\n",
       "      <td>19236.000000</td>\n",
       "    </tr>\n",
       "    <tr>\n",
       "      <th>mean</th>\n",
       "      <td>0.021574</td>\n",
       "      <td>0.010241</td>\n",
       "      <td>0.085881</td>\n",
       "      <td>0.605635</td>\n",
       "    </tr>\n",
       "    <tr>\n",
       "      <th>std</th>\n",
       "      <td>0.168488</td>\n",
       "      <td>0.103734</td>\n",
       "      <td>0.335115</td>\n",
       "      <td>1.268571</td>\n",
       "    </tr>\n",
       "    <tr>\n",
       "      <th>min</th>\n",
       "      <td>0.000000</td>\n",
       "      <td>0.000000</td>\n",
       "      <td>0.000000</td>\n",
       "      <td>0.000000</td>\n",
       "    </tr>\n",
       "    <tr>\n",
       "      <th>25%</th>\n",
       "      <td>0.000000</td>\n",
       "      <td>0.000000</td>\n",
       "      <td>0.000000</td>\n",
       "      <td>0.000000</td>\n",
       "    </tr>\n",
       "    <tr>\n",
       "      <th>50%</th>\n",
       "      <td>0.000000</td>\n",
       "      <td>0.000000</td>\n",
       "      <td>0.000000</td>\n",
       "      <td>0.000000</td>\n",
       "    </tr>\n",
       "    <tr>\n",
       "      <th>75%</th>\n",
       "      <td>0.000000</td>\n",
       "      <td>0.000000</td>\n",
       "      <td>0.000000</td>\n",
       "      <td>1.000000</td>\n",
       "    </tr>\n",
       "    <tr>\n",
       "      <th>max</th>\n",
       "      <td>5.000000</td>\n",
       "      <td>2.000000</td>\n",
       "      <td>6.000000</td>\n",
       "      <td>27.000000</td>\n",
       "    </tr>\n",
       "  </tbody>\n",
       "</table>\n",
       "</div>"
      ],
      "text/plain": [
       "       hashtags_count  users_tagged  number_num_val     num_upper\n",
       "count    19236.000000  19236.000000    19236.000000  19236.000000\n",
       "mean         0.021574      0.010241        0.085881      0.605635\n",
       "std          0.168488      0.103734        0.335115      1.268571\n",
       "min          0.000000      0.000000        0.000000      0.000000\n",
       "25%          0.000000      0.000000        0.000000      0.000000\n",
       "50%          0.000000      0.000000        0.000000      0.000000\n",
       "75%          0.000000      0.000000        0.000000      1.000000\n",
       "max          5.000000      2.000000        6.000000     27.000000"
      ]
     },
     "execution_count": 39,
     "metadata": {},
     "output_type": "execute_result"
    }
   ],
   "source": [
    "X_train.describe()"
   ]
  },
  {
   "cell_type": "markdown",
   "id": "bound-engine",
   "metadata": {},
   "source": [
    "**ATTENTION** : Il manque le nombre de smiley"
   ]
  },
  {
   "cell_type": "markdown",
   "id": "toxic-finger",
   "metadata": {},
   "source": [
    "inspi : https://towardsdatascience.com/text-preprocessing-for-data-scientist-3d2419c8199d"
   ]
  },
  {
   "cell_type": "code",
   "execution_count": 42,
   "id": "compatible-radical",
   "metadata": {},
   "outputs": [],
   "source": [
    "# Checking the first 10 most frequent words\n",
    "from collections import Counter\n"
   ]
  },
  {
   "cell_type": "code",
   "execution_count": 45,
   "id": "vietnamese-victory",
   "metadata": {},
   "outputs": [],
   "source": [
    "def count_most_common_words(df, text_field, nb=10):\n",
    "    '''\n",
    "    count the most common words\n",
    "    \n",
    "    inputs : \n",
    "        df : a dataframe\n",
    "        text_field : the name of the text column to analyse\n",
    "    \n",
    "    returns :\n",
    "        a list of tuple containing the most common words and their respective number of occurences\n",
    "    \n",
    "    '''\n",
    "    cnt = Counter()\n",
    "    for text in df[text_field].values:\n",
    "        for word in text.split():\n",
    "            cnt[word] += 1\n",
    "        \n",
    "    return cnt.most_common(nb)"
   ]
  },
  {
   "cell_type": "code",
   "execution_count": 47,
   "id": "confirmed-tender",
   "metadata": {},
   "outputs": [
    {
     "data": {
      "text/plain": [
       "[('to', 6927),\n",
       " ('I', 6075),\n",
       " ('the', 5959),\n",
       " ('a', 4507),\n",
       " ('my', 3422),\n",
       " ('and', 3313),\n",
       " ('i', 3031),\n",
       " ('you', 2667),\n",
       " ('is', 2563),\n",
       " ('for', 2516),\n",
       " ('in', 2474),\n",
       " ('of', 2159),\n",
       " ('it', 2053),\n",
       " ('on', 1824),\n",
       " ('have', 1620),\n",
       " ('that', 1527),\n",
       " ('me', 1526),\n",
       " ('so', 1514),\n",
       " ('with', 1387),\n",
       " ('be', 1365)]"
      ]
     },
     "execution_count": 47,
     "metadata": {},
     "output_type": "execute_result"
    }
   ],
   "source": [
    "count_most_common_words(X_train, 'text', 20)"
   ]
  },
  {
   "cell_type": "code",
   "execution_count": 49,
   "id": "olive-intake",
   "metadata": {},
   "outputs": [
    {
     "name": "stdout",
     "output_type": "stream",
     "text": [
      "Collecting emot\n",
      "  Downloading emot-2.1-py3-none-any.whl (27 kB)\n",
      "Installing collected packages: emot\n",
      "Successfully installed emot-2.1\n",
      "\u001b[33mWARNING: Running pip as root will break packages and permissions. You should install packages reliably by using venv: https://pip.pypa.io/warnings/venv\u001b[0m\n"
     ]
    }
   ],
   "source": [
    "!pip install emot"
   ]
  },
  {
   "cell_type": "code",
   "execution_count": 50,
   "id": "supposed-gnome",
   "metadata": {},
   "outputs": [],
   "source": [
    "from emot.emo_unicode import UNICODE_EMO, EMOTICONS"
   ]
  },
  {
   "cell_type": "code",
   "execution_count": 58,
   "id": "durable-premises",
   "metadata": {},
   "outputs": [],
   "source": [
    "# Converting emojis to words\n",
    "def convert_emojis(text):\n",
    "    for emot in UNICODE_EMO:\n",
    "        text = text.replace(emot, \"_\".join(UNICODE_EMO[emot].replace(\",\",\"\").replace(\":\",\"\").split()))\n",
    "    return text# Converting emoticons to words    \n",
    "    \n",
    "def convert_emoticons(text):\n",
    "    for emot in EMOTICONS:\n",
    "        text = re.sub(u'('+emot+')', \"_\".join(EMOTICONS[emot].replace(\",\",\"\").split()), text)\n",
    "    return text# Example\n"
   ]
  },
  {
   "cell_type": "code",
   "execution_count": 59,
   "id": "binary-culture",
   "metadata": {},
   "outputs": [
    {
     "data": {
      "text/plain": [
       "'Hello Happy_face_smiley Happy_face_smiley'"
      ]
     },
     "execution_count": 59,
     "metadata": {},
     "output_type": "execute_result"
    }
   ],
   "source": [
    "text = \"Hello :-) :-)\"\n",
    "convert_emoticons(text)\n"
   ]
  },
  {
   "cell_type": "code",
   "execution_count": 60,
   "id": "foster-invalid",
   "metadata": {},
   "outputs": [
    {
     "data": {
      "text/plain": [
       "'Hilarious face_with_tears_of_joy'"
      ]
     },
     "execution_count": 60,
     "metadata": {},
     "output_type": "execute_result"
    }
   ],
   "source": [
    "text1 = \"Hilarious 😂\"\n",
    "convert_emojis(text1)"
   ]
  },
  {
   "cell_type": "code",
   "execution_count": null,
   "id": "apart-links",
   "metadata": {},
   "outputs": [],
   "source": []
  }
 ],
 "metadata": {
  "kernelspec": {
   "display_name": "Python 3",
   "language": "python",
   "name": "python3"
  },
  "language_info": {
   "codemirror_mode": {
    "name": "ipython",
    "version": 3
   },
   "file_extension": ".py",
   "mimetype": "text/x-python",
   "name": "python",
   "nbconvert_exporter": "python",
   "pygments_lexer": "ipython3",
   "version": "3.8.5"
  },
  "toc-autonumbering": false
 },
 "nbformat": 4,
 "nbformat_minor": 5
}
